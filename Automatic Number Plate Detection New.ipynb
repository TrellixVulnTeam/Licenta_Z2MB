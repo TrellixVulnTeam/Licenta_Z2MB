{
 "cells": [
  {
   "cell_type": "markdown",
   "metadata": {
    "id": "QUANWN3rpfC9"
   },
   "source": [
    "# 0. Setup of Paths"
   ]
  },
  {
   "cell_type": "code",
   "execution_count": 1,
   "metadata": {
    "id": "146BB11JpfDA"
   },
   "outputs": [],
   "source": [
    "import os"
   ]
  },
  {
   "cell_type": "code",
   "execution_count": 3,
   "metadata": {
    "id": "42hJEdo_pfDB"
   },
   "outputs": [],
   "source": [
    "CUSTOM_MODEL_NAME = 'my_ssd_mobnet'\n",
    "CUSTOM_MODEL_NEW_NAME = 'my_ssd_mobnet_new'\n",
    "PRETRAINED_MODEL_NAME = 'ssd_mobilenet_v2_fpnlite_320x320_coco17_tpu-8'\n",
    "PRETRAINED_MODEL_URL = 'http://download.tensorflow.org/models/object_detection/tf2/20200711/ssd_mobilenet_v2_fpnlite_320x320_coco17_tpu-8.tar.gz'\n",
    "TF_RECORD_SCRIPT_NAME = 'generate_tfrecord.py'\n",
    "LABEL_MAP_NAME = 'label_map.pbtxt'\n",
    "LABEL_MAP_NEW_NAME = 'label_map_new.pbtxt'"
   ]
  },
  {
   "cell_type": "code",
   "execution_count": 4,
   "metadata": {
    "id": "hbPhYVy_pfDB"
   },
   "outputs": [],
   "source": [
    "paths = {\n",
    "    'WORKSPACE_PATH': os.path.join('Tensorflow', 'workspace'),\n",
    "    'SCRIPTS_PATH': os.path.join('Tensorflow', 'scripts'),\n",
    "    'APIMODEL_PATH': os.path.join('Tensorflow', 'models'),\n",
    "    'ANNOTATION_PATH': os.path.join('Tensorflow', 'workspace', 'annotations'),\n",
    "    'ANNOTATION_NEW_PATH': os.path.join('Tensorflow', 'workspace', 'annotationsnew'),\n",
    "    'IMAGE_PATH': os.path.join('Tensorflow', 'workspace', 'images'),\n",
    "    'IMAGE_NEW_PATH': os.path.join('Tensorflow', 'workspace', 'imagesnew'),\n",
    "    'MODEL_PATH': os.path.join('Tensorflow', 'workspace', 'models'),\n",
    "    'PRETRAINED_MODEL_PATH': os.path.join('Tensorflow', 'workspace', 'pre-trained-models'),\n",
    "    'CHECKPOINT_PATH': os.path.join('Tensorflow', 'workspace', 'models', CUSTOM_MODEL_NAME),\n",
    "    'CHECKPOINT_NEW_PATH': os.path.join('Tensorflow', 'workspace', 'models', CUSTOM_MODEL_NEW_NAME),\n",
    "    'OUTPUT_PATH': os.path.join('Tensorflow', 'workspace', 'models', CUSTOM_MODEL_NAME, 'export'), \n",
    "    'OUTPUT_NEW_PATH': os.path.join('Tensorflow', 'workspace', 'models', CUSTOM_MODEL_NEW_NAME, 'export'),\n",
    "    'TFJS_PATH': os.path.join('Tensorflow', 'workspace', 'models', CUSTOM_MODEL_NAME, 'tfjsexport'), \n",
    "    'TFJS_NEW_PATH': os.path.join('Tensorflow', 'workspace', 'models', CUSTOM_MODEL_NEW_NAME, 'tfjsexport'), \n",
    "    'TFLITE_PATH': os.path.join('Tensorflow', 'workspace','models', CUSTOM_MODEL_NAME, 'tfliteexport'), \n",
    "    'TFLITE_NEW_PATH': os.path.join('Tensorflow', 'workspace','models', CUSTOM_MODEL_NEW_NAME, 'tfliteexport'),\n",
    "    'PROTOC_PATH': os.path.join('Tensorflow', 'protoc'),\n",
    "    'REALTIMEDETECTIONS_PATH': os.path.join('RealTimeDetections')\n",
    " }"
   ]
  },
  {
   "cell_type": "code",
   "execution_count": 5,
   "metadata": {
    "id": "LwhWZMI0pfDC"
   },
   "outputs": [],
   "source": [
    "files = {\n",
    "    'PIPELINE_CONFIG': os.path.join('Tensorflow', 'workspace','models', CUSTOM_MODEL_NAME, 'pipeline.config'),\n",
    "    'PIPELINE_NEW_CONFIG': os.path.join('Tensorflow', 'workspace','models', CUSTOM_MODEL_NEW_NAME, 'pipeline.config'),\n",
    "    'TF_RECORD_SCRIPT': os.path.join(TF_RECORD_SCRIPT_NAME), \n",
    "    'LABELMAP': os.path.join(paths['ANNOTATION_PATH'], LABEL_MAP_NAME),\n",
    "    'LABELMAP_NEW': os.path.join(paths['ANNOTATION_NEW_PATH'], LABEL_MAP_NEW_NAME)\n",
    "}"
   ]
  },
  {
   "cell_type": "code",
   "execution_count": 5,
   "metadata": {
    "id": "HR-TfDGrpfDC"
   },
   "outputs": [],
   "source": [
    "for path in paths.values():\n",
    "    if not os.path.exists(path):\n",
    "        if os.name == 'posix':\n",
    "            !mkdir -p {path}\n",
    "        if os.name == 'nt':\n",
    "            !mkdir {path}"
   ]
  },
  {
   "cell_type": "markdown",
   "metadata": {
    "id": "OLU-rs_ipfDE"
   },
   "source": [
    "# 1. Downloading TF Models Pretrained Models from Tensorflow Model Zoo and Installing TFOD"
   ]
  },
  {
   "cell_type": "code",
   "execution_count": 6,
   "metadata": {
    "id": "K-Cmz2edpfDE",
    "scrolled": true
   },
   "outputs": [
    {
     "name": "stdout",
     "output_type": "stream",
     "text": [
      "Requirement already satisfied: wget in c:\\users\\nasta\\onedrive\\desktop\\licenta_git\\licenta\\lib\\site-packages (3.2)\n"
     ]
    },
    {
     "name": "stderr",
     "output_type": "stream",
     "text": [
      "WARNING: There was an error checking the latest version of pip.\n"
     ]
    }
   ],
   "source": [
    "if os.name=='nt':\n",
    "    !pip install wget\n",
    "    import wget"
   ]
  },
  {
   "cell_type": "code",
   "execution_count": null,
   "metadata": {
    "id": "iA1DIq5OpfDE"
   },
   "outputs": [],
   "source": [
    "if not os.path.exists(os.path.join(paths['APIMODEL_PATH'], 'research', 'object_detection')):\n",
    "    !git clone https://github.com/tensorflow/models {paths['APIMODEL_PATH']}"
   ]
  },
  {
   "cell_type": "code",
   "execution_count": null,
   "metadata": {
    "id": "rJjMHbnDs3Tv"
   },
   "outputs": [],
   "source": [
    "# Install Tensorflow Object Detection \n",
    "if os.name=='posix':  \n",
    "    !apt-get install protobuf-compiler\n",
    "    !cd Tensorflow/models/research && protoc object_detection/protos/*.proto --python_out=. && cp object_detection/packages/tf2/setup.py . && python -m pip install . \n",
    "    \n",
    "if os.name=='nt':\n",
    "    url=\"https://github.com/protocolbuffers/protobuf/releases/download/v3.15.6/protoc-3.15.6-win64.zip\"\n",
    "    wget.download(url)\n",
    "    !move protoc-3.15.6-win64.zip {paths['PROTOC_PATH']}\n",
    "    !cd {paths['PROTOC_PATH']} && tar -xf protoc-3.15.6-win64.zip\n",
    "    os.environ['PATH'] += os.pathsep + os.path.abspath(os.path.join(paths['PROTOC_PATH'], 'bin'))   \n",
    "    !cd Tensorflow/models/research && protoc object_detection/protos/*.proto --python_out=. && copy object_detection\\\\packages\\\\tf2\\\\setup.py setup.py && python setup.py build && python setup.py install\n",
    "    !cd Tensorflow/models/research/slim && pip install -e . "
   ]
  },
  {
   "cell_type": "code",
   "execution_count": null,
   "metadata": {
    "scrolled": true
   },
   "outputs": [],
   "source": [
    "!pip list"
   ]
  },
  {
   "cell_type": "code",
   "execution_count": 7,
   "metadata": {
    "scrolled": true
   },
   "outputs": [
    {
     "name": "stderr",
     "output_type": "stream",
     "text": [
      "2022-05-29 13:05:53.261100: W tensorflow/stream_executor/platform/default/dso_loader.cc:64] Could not load dynamic library 'nvcuda.dll'; dlerror: nvcuda.dll not found\n",
      "2022-05-29 13:05:53.261894: W tensorflow/stream_executor/cuda/cuda_driver.cc:269] failed call to cuInit: UNKNOWN ERROR (303)\n",
      "2022-05-29 13:05:53.264630: I tensorflow/stream_executor/cuda/cuda_diagnostics.cc:169] retrieving CUDA diagnostic information for host: LAPTOP-G69NK1L0\n",
      "2022-05-29 13:05:53.264706: I tensorflow/stream_executor/cuda/cuda_diagnostics.cc:176] hostname: LAPTOP-G69NK1L0\n",
      "Running tests under Python 3.10.4: C:\\Users\\nasta\\OneDrive\\Desktop\\Licenta_git\\licenta\\Scripts\\python.exe\n",
      "[ RUN      ] ModelBuilderTF2Test.test_create_center_net_deepmac\n",
      "2022-05-29 13:05:53.280465: I tensorflow/core/platform/cpu_feature_guard.cc:151] This TensorFlow binary is optimized with oneAPI Deep Neural Network Library (oneDNN) to use the following CPU instructions in performance-critical operations:  AVX AVX2\n",
      "To enable them in other operations, rebuild TensorFlow with the appropriate compiler flags.\n",
      "C:\\Users\\nasta\\OneDrive\\Desktop\\Licenta_git\\licenta\\lib\\site-packages\\object_detection-0.1-py3.10.egg\\object_detection\\builders\\model_builder.py:1102: DeprecationWarning: The 'warn' function is deprecated, use 'warning' instead\n",
      "  logging.warn(('Building experimental DeepMAC meta-arch.'\n",
      "W0529 13:05:53.425102  1944 model_builder.py:1102] Building experimental DeepMAC meta-arch. Some features may be omitted.\n",
      "INFO:tensorflow:time(__main__.ModelBuilderTF2Test.test_create_center_net_deepmac): 0.36s\n",
      "I0529 13:05:53.624997  1944 test_util.py:2373] time(__main__.ModelBuilderTF2Test.test_create_center_net_deepmac): 0.36s\n",
      "[       OK ] ModelBuilderTF2Test.test_create_center_net_deepmac\n",
      "[ RUN      ] ModelBuilderTF2Test.test_create_center_net_model0 (customize_head_params=True)\n",
      "INFO:tensorflow:time(__main__.ModelBuilderTF2Test.test_create_center_net_model0 (customize_head_params=True)): 0.8s\n",
      "I0529 13:05:54.426056  1944 test_util.py:2373] time(__main__.ModelBuilderTF2Test.test_create_center_net_model0 (customize_head_params=True)): 0.8s\n",
      "[       OK ] ModelBuilderTF2Test.test_create_center_net_model0 (customize_head_params=True)\n",
      "[ RUN      ] ModelBuilderTF2Test.test_create_center_net_model1 (customize_head_params=False)\n",
      "INFO:tensorflow:time(__main__.ModelBuilderTF2Test.test_create_center_net_model1 (customize_head_params=False)): 0.15s\n",
      "I0529 13:05:54.573844  1944 test_util.py:2373] time(__main__.ModelBuilderTF2Test.test_create_center_net_model1 (customize_head_params=False)): 0.15s\n",
      "[       OK ] ModelBuilderTF2Test.test_create_center_net_model1 (customize_head_params=False)\n",
      "[ RUN      ] ModelBuilderTF2Test.test_create_center_net_model_from_keypoints\n",
      "INFO:tensorflow:time(__main__.ModelBuilderTF2Test.test_create_center_net_model_from_keypoints): 0.26s\n",
      "I0529 13:05:54.834779  1944 test_util.py:2373] time(__main__.ModelBuilderTF2Test.test_create_center_net_model_from_keypoints): 0.26s\n",
      "[       OK ] ModelBuilderTF2Test.test_create_center_net_model_from_keypoints\n",
      "[ RUN      ] ModelBuilderTF2Test.test_create_center_net_model_mobilenet\n",
      "INFO:tensorflow:time(__main__.ModelBuilderTF2Test.test_create_center_net_model_mobilenet): 1.13s\n",
      "I0529 13:05:55.963922  1944 test_util.py:2373] time(__main__.ModelBuilderTF2Test.test_create_center_net_model_mobilenet): 1.13s\n",
      "[       OK ] ModelBuilderTF2Test.test_create_center_net_model_mobilenet\n",
      "[ RUN      ] ModelBuilderTF2Test.test_create_experimental_model\n",
      "INFO:tensorflow:time(__main__.ModelBuilderTF2Test.test_create_experimental_model): 0.0s\n",
      "I0529 13:05:55.963922  1944 test_util.py:2373] time(__main__.ModelBuilderTF2Test.test_create_experimental_model): 0.0s\n",
      "[       OK ] ModelBuilderTF2Test.test_create_experimental_model\n",
      "[ RUN      ] ModelBuilderTF2Test.test_create_faster_rcnn_from_config_with_crop_feature0 (True)\n",
      "INFO:tensorflow:time(__main__.ModelBuilderTF2Test.test_create_faster_rcnn_from_config_with_crop_feature0 (True)): 0.02s\n",
      "I0529 13:05:55.983889  1944 test_util.py:2373] time(__main__.ModelBuilderTF2Test.test_create_faster_rcnn_from_config_with_crop_feature0 (True)): 0.02s\n",
      "[       OK ] ModelBuilderTF2Test.test_create_faster_rcnn_from_config_with_crop_feature0 (True)\n",
      "[ RUN      ] ModelBuilderTF2Test.test_create_faster_rcnn_from_config_with_crop_feature1 (False)\n",
      "INFO:tensorflow:time(__main__.ModelBuilderTF2Test.test_create_faster_rcnn_from_config_with_crop_feature1 (False)): 0.0s\n",
      "I0529 13:05:55.984909  1944 test_util.py:2373] time(__main__.ModelBuilderTF2Test.test_create_faster_rcnn_from_config_with_crop_feature1 (False)): 0.0s\n",
      "[       OK ] ModelBuilderTF2Test.test_create_faster_rcnn_from_config_with_crop_feature1 (False)\n",
      "[ RUN      ] ModelBuilderTF2Test.test_create_faster_rcnn_model_from_config_with_example_miner\n",
      "INFO:tensorflow:time(__main__.ModelBuilderTF2Test.test_create_faster_rcnn_model_from_config_with_example_miner): 0.02s\n",
      "I0529 13:05:56.004571  1944 test_util.py:2373] time(__main__.ModelBuilderTF2Test.test_create_faster_rcnn_model_from_config_with_example_miner): 0.02s\n",
      "[       OK ] ModelBuilderTF2Test.test_create_faster_rcnn_model_from_config_with_example_miner\n",
      "[ RUN      ] ModelBuilderTF2Test.test_create_faster_rcnn_models_from_config_faster_rcnn_with_matmul\n",
      "INFO:tensorflow:time(__main__.ModelBuilderTF2Test.test_create_faster_rcnn_models_from_config_faster_rcnn_with_matmul): 0.06s\n",
      "I0529 13:05:56.064688  1944 test_util.py:2373] time(__main__.ModelBuilderTF2Test.test_create_faster_rcnn_models_from_config_faster_rcnn_with_matmul): 0.06s\n",
      "[       OK ] ModelBuilderTF2Test.test_create_faster_rcnn_models_from_config_faster_rcnn_with_matmul\n",
      "[ RUN      ] ModelBuilderTF2Test.test_create_faster_rcnn_models_from_config_faster_rcnn_without_matmul\n",
      "INFO:tensorflow:time(__main__.ModelBuilderTF2Test.test_create_faster_rcnn_models_from_config_faster_rcnn_without_matmul): 0.06s\n",
      "I0529 13:05:56.124909  1944 test_util.py:2373] time(__main__.ModelBuilderTF2Test.test_create_faster_rcnn_models_from_config_faster_rcnn_without_matmul): 0.06s\n",
      "[       OK ] ModelBuilderTF2Test.test_create_faster_rcnn_models_from_config_faster_rcnn_without_matmul\n",
      "[ RUN      ] ModelBuilderTF2Test.test_create_faster_rcnn_models_from_config_mask_rcnn_with_matmul\n",
      "INFO:tensorflow:time(__main__.ModelBuilderTF2Test.test_create_faster_rcnn_models_from_config_mask_rcnn_with_matmul): 0.06s\n",
      "I0529 13:05:56.184970  1944 test_util.py:2373] time(__main__.ModelBuilderTF2Test.test_create_faster_rcnn_models_from_config_mask_rcnn_with_matmul): 0.06s\n",
      "[       OK ] ModelBuilderTF2Test.test_create_faster_rcnn_models_from_config_mask_rcnn_with_matmul\n",
      "[ RUN      ] ModelBuilderTF2Test.test_create_faster_rcnn_models_from_config_mask_rcnn_without_matmul\n",
      "INFO:tensorflow:time(__main__.ModelBuilderTF2Test.test_create_faster_rcnn_models_from_config_mask_rcnn_without_matmul): 0.07s\n",
      "I0529 13:05:56.250828  1944 test_util.py:2373] time(__main__.ModelBuilderTF2Test.test_create_faster_rcnn_models_from_config_mask_rcnn_without_matmul): 0.07s\n",
      "[       OK ] ModelBuilderTF2Test.test_create_faster_rcnn_models_from_config_mask_rcnn_without_matmul\n",
      "[ RUN      ] ModelBuilderTF2Test.test_create_rfcn_model_from_config\n",
      "INFO:tensorflow:time(__main__.ModelBuilderTF2Test.test_create_rfcn_model_from_config): 0.1s\n",
      "I0529 13:05:56.349982  1944 test_util.py:2373] time(__main__.ModelBuilderTF2Test.test_create_rfcn_model_from_config): 0.1s\n",
      "[       OK ] ModelBuilderTF2Test.test_create_rfcn_model_from_config\n",
      "[ RUN      ] ModelBuilderTF2Test.test_create_ssd_fpn_model_from_config\n",
      "INFO:tensorflow:time(__main__.ModelBuilderTF2Test.test_create_ssd_fpn_model_from_config): 0.01s\n",
      "I0529 13:05:56.364659  1944 test_util.py:2373] time(__main__.ModelBuilderTF2Test.test_create_ssd_fpn_model_from_config): 0.01s\n",
      "[       OK ] ModelBuilderTF2Test.test_create_ssd_fpn_model_from_config\n",
      "[ RUN      ] ModelBuilderTF2Test.test_create_ssd_models_from_config\n",
      "I0529 13:05:56.453836  1944 ssd_efficientnet_bifpn_feature_extractor.py:145] EfficientDet EfficientNet backbone version: efficientnet-b0\n",
      "I0529 13:05:56.453836  1944 ssd_efficientnet_bifpn_feature_extractor.py:147] EfficientDet BiFPN num filters: 64\n",
      "I0529 13:05:56.453836  1944 ssd_efficientnet_bifpn_feature_extractor.py:148] EfficientDet BiFPN num iterations: 3\n",
      "I0529 13:05:56.453836  1944 efficientnet_model.py:144] round_filter input=32 output=32\n",
      "I0529 13:05:56.464894  1944 efficientnet_model.py:144] round_filter input=32 output=32\n",
      "I0529 13:05:56.464894  1944 efficientnet_model.py:144] round_filter input=16 output=16\n",
      "I0529 13:05:56.585843  1944 efficientnet_model.py:144] round_filter input=16 output=16\n",
      "I0529 13:05:56.585843  1944 efficientnet_model.py:144] round_filter input=24 output=24\n",
      "I0529 13:05:56.670038  1944 efficientnet_model.py:144] round_filter input=24 output=24\n",
      "I0529 13:05:56.670038  1944 efficientnet_model.py:144] round_filter input=40 output=40\n",
      "I0529 13:05:56.804805  1944 efficientnet_model.py:144] round_filter input=40 output=40\n",
      "I0529 13:05:56.804805  1944 efficientnet_model.py:144] round_filter input=80 output=80\n",
      "I0529 13:05:56.984503  1944 efficientnet_model.py:144] round_filter input=80 output=80\n",
      "I0529 13:05:56.984503  1944 efficientnet_model.py:144] round_filter input=112 output=112\n",
      "I0529 13:05:57.171588  1944 efficientnet_model.py:144] round_filter input=112 output=112\n",
      "I0529 13:05:57.171588  1944 efficientnet_model.py:144] round_filter input=192 output=192\n",
      "I0529 13:05:57.395506  1944 efficientnet_model.py:144] round_filter input=192 output=192\n",
      "I0529 13:05:57.395506  1944 efficientnet_model.py:144] round_filter input=320 output=320\n",
      "I0529 13:05:57.467471  1944 efficientnet_model.py:144] round_filter input=1280 output=1280\n",
      "I0529 13:05:57.497185  1944 efficientnet_model.py:454] Building model efficientnet with params ModelConfig(width_coefficient=1.0, depth_coefficient=1.0, resolution=224, dropout_rate=0.2, blocks=(BlockConfig(input_filters=32, output_filters=16, kernel_size=3, num_repeat=1, expand_ratio=1, strides=(1, 1), se_ratio=0.25, id_skip=True, fused_conv=False, conv_type='depthwise'), BlockConfig(input_filters=16, output_filters=24, kernel_size=3, num_repeat=2, expand_ratio=6, strides=(2, 2), se_ratio=0.25, id_skip=True, fused_conv=False, conv_type='depthwise'), BlockConfig(input_filters=24, output_filters=40, kernel_size=5, num_repeat=2, expand_ratio=6, strides=(2, 2), se_ratio=0.25, id_skip=True, fused_conv=False, conv_type='depthwise'), BlockConfig(input_filters=40, output_filters=80, kernel_size=3, num_repeat=3, expand_ratio=6, strides=(2, 2), se_ratio=0.25, id_skip=True, fused_conv=False, conv_type='depthwise'), BlockConfig(input_filters=80, output_filters=112, kernel_size=5, num_repeat=3, expand_ratio=6, strides=(1, 1), se_ratio=0.25, id_skip=True, fused_conv=False, conv_type='depthwise'), BlockConfig(input_filters=112, output_filters=192, kernel_size=5, num_repeat=4, expand_ratio=6, strides=(2, 2), se_ratio=0.25, id_skip=True, fused_conv=False, conv_type='depthwise'), BlockConfig(input_filters=192, output_filters=320, kernel_size=3, num_repeat=1, expand_ratio=6, strides=(1, 1), se_ratio=0.25, id_skip=True, fused_conv=False, conv_type='depthwise')), stem_base_filters=32, top_base_filters=1280, activation='simple_swish', batch_norm='default', bn_momentum=0.99, bn_epsilon=0.001, weight_decay=5e-06, drop_connect_rate=0.2, depth_divisor=8, min_depth=None, use_se=True, input_channels=3, num_classes=1000, model_name='efficientnet', rescale_input=False, data_format='channels_last', dtype='float32')\n",
      "I0529 13:05:57.529187  1944 ssd_efficientnet_bifpn_feature_extractor.py:145] EfficientDet EfficientNet backbone version: efficientnet-b1\n",
      "I0529 13:05:57.529187  1944 ssd_efficientnet_bifpn_feature_extractor.py:147] EfficientDet BiFPN num filters: 88\n",
      "I0529 13:05:57.529187  1944 ssd_efficientnet_bifpn_feature_extractor.py:148] EfficientDet BiFPN num iterations: 4\n",
      "I0529 13:05:57.537178  1944 efficientnet_model.py:144] round_filter input=32 output=32\n",
      "I0529 13:05:57.545182  1944 efficientnet_model.py:144] round_filter input=32 output=32\n",
      "I0529 13:05:57.545182  1944 efficientnet_model.py:144] round_filter input=16 output=16\n",
      "I0529 13:05:57.601298  1944 efficientnet_model.py:144] round_filter input=16 output=16\n",
      "I0529 13:05:57.601298  1944 efficientnet_model.py:144] round_filter input=24 output=24\n",
      "I0529 13:05:57.787327  1944 efficientnet_model.py:144] round_filter input=24 output=24\n",
      "I0529 13:05:57.787327  1944 efficientnet_model.py:144] round_filter input=40 output=40\n",
      "I0529 13:05:57.969969  1944 efficientnet_model.py:144] round_filter input=40 output=40\n",
      "I0529 13:05:57.969969  1944 efficientnet_model.py:144] round_filter input=80 output=80\n",
      "I0529 13:05:58.202060  1944 efficientnet_model.py:144] round_filter input=80 output=80\n",
      "I0529 13:05:58.202060  1944 efficientnet_model.py:144] round_filter input=112 output=112\n",
      "I0529 13:05:58.412690  1944 efficientnet_model.py:144] round_filter input=112 output=112\n",
      "I0529 13:05:58.412690  1944 efficientnet_model.py:144] round_filter input=192 output=192\n",
      "I0529 13:05:58.677866  1944 efficientnet_model.py:144] round_filter input=192 output=192\n",
      "I0529 13:05:58.677866  1944 efficientnet_model.py:144] round_filter input=320 output=320\n",
      "I0529 13:05:58.862611  1944 efficientnet_model.py:144] round_filter input=1280 output=1280\n",
      "I0529 13:05:58.901772  1944 efficientnet_model.py:454] Building model efficientnet with params ModelConfig(width_coefficient=1.0, depth_coefficient=1.1, resolution=240, dropout_rate=0.2, blocks=(BlockConfig(input_filters=32, output_filters=16, kernel_size=3, num_repeat=1, expand_ratio=1, strides=(1, 1), se_ratio=0.25, id_skip=True, fused_conv=False, conv_type='depthwise'), BlockConfig(input_filters=16, output_filters=24, kernel_size=3, num_repeat=2, expand_ratio=6, strides=(2, 2), se_ratio=0.25, id_skip=True, fused_conv=False, conv_type='depthwise'), BlockConfig(input_filters=24, output_filters=40, kernel_size=5, num_repeat=2, expand_ratio=6, strides=(2, 2), se_ratio=0.25, id_skip=True, fused_conv=False, conv_type='depthwise'), BlockConfig(input_filters=40, output_filters=80, kernel_size=3, num_repeat=3, expand_ratio=6, strides=(2, 2), se_ratio=0.25, id_skip=True, fused_conv=False, conv_type='depthwise'), BlockConfig(input_filters=80, output_filters=112, kernel_size=5, num_repeat=3, expand_ratio=6, strides=(1, 1), se_ratio=0.25, id_skip=True, fused_conv=False, conv_type='depthwise'), BlockConfig(input_filters=112, output_filters=192, kernel_size=5, num_repeat=4, expand_ratio=6, strides=(2, 2), se_ratio=0.25, id_skip=True, fused_conv=False, conv_type='depthwise'), BlockConfig(input_filters=192, output_filters=320, kernel_size=3, num_repeat=1, expand_ratio=6, strides=(1, 1), se_ratio=0.25, id_skip=True, fused_conv=False, conv_type='depthwise')), stem_base_filters=32, top_base_filters=1280, activation='simple_swish', batch_norm='default', bn_momentum=0.99, bn_epsilon=0.001, weight_decay=5e-06, drop_connect_rate=0.2, depth_divisor=8, min_depth=None, use_se=True, input_channels=3, num_classes=1000, model_name='efficientnet', rescale_input=False, data_format='channels_last', dtype='float32')\n",
      "I0529 13:05:58.942387  1944 ssd_efficientnet_bifpn_feature_extractor.py:145] EfficientDet EfficientNet backbone version: efficientnet-b2\n",
      "I0529 13:05:58.942387  1944 ssd_efficientnet_bifpn_feature_extractor.py:147] EfficientDet BiFPN num filters: 112\n",
      "I0529 13:05:58.942387  1944 ssd_efficientnet_bifpn_feature_extractor.py:148] EfficientDet BiFPN num iterations: 5\n",
      "I0529 13:05:58.942387  1944 efficientnet_model.py:144] round_filter input=32 output=32\n",
      "I0529 13:05:58.952404  1944 efficientnet_model.py:144] round_filter input=32 output=32\n",
      "I0529 13:05:58.952404  1944 efficientnet_model.py:144] round_filter input=16 output=16\n",
      "I0529 13:05:59.022578  1944 efficientnet_model.py:144] round_filter input=16 output=16\n",
      "I0529 13:05:59.022578  1944 efficientnet_model.py:144] round_filter input=24 output=24\n",
      "I0529 13:05:59.190040  1944 efficientnet_model.py:144] round_filter input=24 output=24\n",
      "I0529 13:05:59.190040  1944 efficientnet_model.py:144] round_filter input=40 output=48\n",
      "I0529 13:05:59.442782  1944 efficientnet_model.py:144] round_filter input=40 output=48\n",
      "I0529 13:05:59.442782  1944 efficientnet_model.py:144] round_filter input=80 output=88\n",
      "I0529 13:05:59.629905  1944 efficientnet_model.py:144] round_filter input=80 output=88\n",
      "I0529 13:05:59.629905  1944 efficientnet_model.py:144] round_filter input=112 output=120\n",
      "I0529 13:05:59.829943  1944 efficientnet_model.py:144] round_filter input=112 output=120\n",
      "I0529 13:05:59.837918  1944 efficientnet_model.py:144] round_filter input=192 output=208\n",
      "I0529 13:06:00.137484  1944 efficientnet_model.py:144] round_filter input=192 output=208\n",
      "I0529 13:06:00.137484  1944 efficientnet_model.py:144] round_filter input=320 output=352\n",
      "I0529 13:06:00.272835  1944 efficientnet_model.py:144] round_filter input=1280 output=1408\n",
      "I0529 13:06:00.310004  1944 efficientnet_model.py:454] Building model efficientnet with params ModelConfig(width_coefficient=1.1, depth_coefficient=1.2, resolution=260, dropout_rate=0.3, blocks=(BlockConfig(input_filters=32, output_filters=16, kernel_size=3, num_repeat=1, expand_ratio=1, strides=(1, 1), se_ratio=0.25, id_skip=True, fused_conv=False, conv_type='depthwise'), BlockConfig(input_filters=16, output_filters=24, kernel_size=3, num_repeat=2, expand_ratio=6, strides=(2, 2), se_ratio=0.25, id_skip=True, fused_conv=False, conv_type='depthwise'), BlockConfig(input_filters=24, output_filters=40, kernel_size=5, num_repeat=2, expand_ratio=6, strides=(2, 2), se_ratio=0.25, id_skip=True, fused_conv=False, conv_type='depthwise'), BlockConfig(input_filters=40, output_filters=80, kernel_size=3, num_repeat=3, expand_ratio=6, strides=(2, 2), se_ratio=0.25, id_skip=True, fused_conv=False, conv_type='depthwise'), BlockConfig(input_filters=80, output_filters=112, kernel_size=5, num_repeat=3, expand_ratio=6, strides=(1, 1), se_ratio=0.25, id_skip=True, fused_conv=False, conv_type='depthwise'), BlockConfig(input_filters=112, output_filters=192, kernel_size=5, num_repeat=4, expand_ratio=6, strides=(2, 2), se_ratio=0.25, id_skip=True, fused_conv=False, conv_type='depthwise'), BlockConfig(input_filters=192, output_filters=320, kernel_size=3, num_repeat=1, expand_ratio=6, strides=(1, 1), se_ratio=0.25, id_skip=True, fused_conv=False, conv_type='depthwise')), stem_base_filters=32, top_base_filters=1280, activation='simple_swish', batch_norm='default', bn_momentum=0.99, bn_epsilon=0.001, weight_decay=5e-06, drop_connect_rate=0.2, depth_divisor=8, min_depth=None, use_se=True, input_channels=3, num_classes=1000, model_name='efficientnet', rescale_input=False, data_format='channels_last', dtype='float32')\n",
      "I0529 13:06:00.352842  1944 ssd_efficientnet_bifpn_feature_extractor.py:145] EfficientDet EfficientNet backbone version: efficientnet-b3\n",
      "I0529 13:06:00.352842  1944 ssd_efficientnet_bifpn_feature_extractor.py:147] EfficientDet BiFPN num filters: 160\n",
      "I0529 13:06:00.352842  1944 ssd_efficientnet_bifpn_feature_extractor.py:148] EfficientDet BiFPN num iterations: 6\n",
      "I0529 13:06:00.352842  1944 efficientnet_model.py:144] round_filter input=32 output=40\n",
      "I0529 13:06:00.360839  1944 efficientnet_model.py:144] round_filter input=32 output=40\n",
      "I0529 13:06:00.360839  1944 efficientnet_model.py:144] round_filter input=16 output=24\n",
      "I0529 13:06:00.453025  1944 efficientnet_model.py:144] round_filter input=16 output=24\n",
      "I0529 13:06:00.453025  1944 efficientnet_model.py:144] round_filter input=24 output=32\n",
      "I0529 13:06:00.601934  1944 efficientnet_model.py:144] round_filter input=24 output=32\n",
      "I0529 13:06:00.601934  1944 efficientnet_model.py:144] round_filter input=40 output=48\n",
      "I0529 13:06:00.762892  1944 efficientnet_model.py:144] round_filter input=40 output=48\n",
      "I0529 13:06:00.762892  1944 efficientnet_model.py:144] round_filter input=80 output=96\n",
      "I0529 13:06:01.027850  1944 efficientnet_model.py:144] round_filter input=80 output=96\n",
      "I0529 13:06:01.027850  1944 efficientnet_model.py:144] round_filter input=112 output=136\n",
      "I0529 13:06:01.262816  1944 efficientnet_model.py:144] round_filter input=112 output=136\n",
      "I0529 13:06:01.262816  1944 efficientnet_model.py:144] round_filter input=192 output=232\n",
      "I0529 13:06:01.582578  1944 efficientnet_model.py:144] round_filter input=192 output=232\n",
      "I0529 13:06:01.582578  1944 efficientnet_model.py:144] round_filter input=320 output=384\n",
      "I0529 13:06:01.702706  1944 efficientnet_model.py:144] round_filter input=1280 output=1536\n",
      "I0529 13:06:01.735809  1944 efficientnet_model.py:454] Building model efficientnet with params ModelConfig(width_coefficient=1.2, depth_coefficient=1.4, resolution=300, dropout_rate=0.3, blocks=(BlockConfig(input_filters=32, output_filters=16, kernel_size=3, num_repeat=1, expand_ratio=1, strides=(1, 1), se_ratio=0.25, id_skip=True, fused_conv=False, conv_type='depthwise'), BlockConfig(input_filters=16, output_filters=24, kernel_size=3, num_repeat=2, expand_ratio=6, strides=(2, 2), se_ratio=0.25, id_skip=True, fused_conv=False, conv_type='depthwise'), BlockConfig(input_filters=24, output_filters=40, kernel_size=5, num_repeat=2, expand_ratio=6, strides=(2, 2), se_ratio=0.25, id_skip=True, fused_conv=False, conv_type='depthwise'), BlockConfig(input_filters=40, output_filters=80, kernel_size=3, num_repeat=3, expand_ratio=6, strides=(2, 2), se_ratio=0.25, id_skip=True, fused_conv=False, conv_type='depthwise'), BlockConfig(input_filters=80, output_filters=112, kernel_size=5, num_repeat=3, expand_ratio=6, strides=(1, 1), se_ratio=0.25, id_skip=True, fused_conv=False, conv_type='depthwise'), BlockConfig(input_filters=112, output_filters=192, kernel_size=5, num_repeat=4, expand_ratio=6, strides=(2, 2), se_ratio=0.25, id_skip=True, fused_conv=False, conv_type='depthwise'), BlockConfig(input_filters=192, output_filters=320, kernel_size=3, num_repeat=1, expand_ratio=6, strides=(1, 1), se_ratio=0.25, id_skip=True, fused_conv=False, conv_type='depthwise')), stem_base_filters=32, top_base_filters=1280, activation='simple_swish', batch_norm='default', bn_momentum=0.99, bn_epsilon=0.001, weight_decay=5e-06, drop_connect_rate=0.2, depth_divisor=8, min_depth=None, use_se=True, input_channels=3, num_classes=1000, model_name='efficientnet', rescale_input=False, data_format='channels_last', dtype='float32')\n",
      "I0529 13:06:01.781950  1944 ssd_efficientnet_bifpn_feature_extractor.py:145] EfficientDet EfficientNet backbone version: efficientnet-b4\n",
      "I0529 13:06:01.781950  1944 ssd_efficientnet_bifpn_feature_extractor.py:147] EfficientDet BiFPN num filters: 224\n",
      "I0529 13:06:01.781950  1944 ssd_efficientnet_bifpn_feature_extractor.py:148] EfficientDet BiFPN num iterations: 7\n",
      "I0529 13:06:01.781950  1944 efficientnet_model.py:144] round_filter input=32 output=48\n",
      "I0529 13:06:01.789947  1944 efficientnet_model.py:144] round_filter input=32 output=48\n",
      "I0529 13:06:01.789947  1944 efficientnet_model.py:144] round_filter input=16 output=24\n",
      "I0529 13:06:01.862844  1944 efficientnet_model.py:144] round_filter input=16 output=24\n",
      "I0529 13:06:01.862844  1944 efficientnet_model.py:144] round_filter input=24 output=32\n",
      "I0529 13:06:02.033858  1944 efficientnet_model.py:144] round_filter input=24 output=32\n",
      "I0529 13:06:02.033858  1944 efficientnet_model.py:144] round_filter input=40 output=56\n",
      "I0529 13:06:02.357885  1944 efficientnet_model.py:144] round_filter input=40 output=56\n",
      "I0529 13:06:02.357885  1944 efficientnet_model.py:144] round_filter input=80 output=112\n",
      "I0529 13:06:02.617593  1944 efficientnet_model.py:144] round_filter input=80 output=112\n",
      "I0529 13:06:02.617593  1944 efficientnet_model.py:144] round_filter input=112 output=160\n",
      "I0529 13:06:02.921995  1944 efficientnet_model.py:144] round_filter input=112 output=160\n",
      "I0529 13:06:02.921995  1944 efficientnet_model.py:144] round_filter input=192 output=272\n",
      "I0529 13:06:03.361794  1944 efficientnet_model.py:144] round_filter input=192 output=272\n",
      "I0529 13:06:03.369791  1944 efficientnet_model.py:144] round_filter input=320 output=448\n",
      "I0529 13:06:03.492924  1944 efficientnet_model.py:144] round_filter input=1280 output=1792\n",
      "I0529 13:06:03.529969  1944 efficientnet_model.py:454] Building model efficientnet with params ModelConfig(width_coefficient=1.4, depth_coefficient=1.8, resolution=380, dropout_rate=0.4, blocks=(BlockConfig(input_filters=32, output_filters=16, kernel_size=3, num_repeat=1, expand_ratio=1, strides=(1, 1), se_ratio=0.25, id_skip=True, fused_conv=False, conv_type='depthwise'), BlockConfig(input_filters=16, output_filters=24, kernel_size=3, num_repeat=2, expand_ratio=6, strides=(2, 2), se_ratio=0.25, id_skip=True, fused_conv=False, conv_type='depthwise'), BlockConfig(input_filters=24, output_filters=40, kernel_size=5, num_repeat=2, expand_ratio=6, strides=(2, 2), se_ratio=0.25, id_skip=True, fused_conv=False, conv_type='depthwise'), BlockConfig(input_filters=40, output_filters=80, kernel_size=3, num_repeat=3, expand_ratio=6, strides=(2, 2), se_ratio=0.25, id_skip=True, fused_conv=False, conv_type='depthwise'), BlockConfig(input_filters=80, output_filters=112, kernel_size=5, num_repeat=3, expand_ratio=6, strides=(1, 1), se_ratio=0.25, id_skip=True, fused_conv=False, conv_type='depthwise'), BlockConfig(input_filters=112, output_filters=192, kernel_size=5, num_repeat=4, expand_ratio=6, strides=(2, 2), se_ratio=0.25, id_skip=True, fused_conv=False, conv_type='depthwise'), BlockConfig(input_filters=192, output_filters=320, kernel_size=3, num_repeat=1, expand_ratio=6, strides=(1, 1), se_ratio=0.25, id_skip=True, fused_conv=False, conv_type='depthwise')), stem_base_filters=32, top_base_filters=1280, activation='simple_swish', batch_norm='default', bn_momentum=0.99, bn_epsilon=0.001, weight_decay=5e-06, drop_connect_rate=0.2, depth_divisor=8, min_depth=None, use_se=True, input_channels=3, num_classes=1000, model_name='efficientnet', rescale_input=False, data_format='channels_last', dtype='float32')\n",
      "I0529 13:06:03.572927  1944 ssd_efficientnet_bifpn_feature_extractor.py:145] EfficientDet EfficientNet backbone version: efficientnet-b5\n",
      "I0529 13:06:03.572927  1944 ssd_efficientnet_bifpn_feature_extractor.py:147] EfficientDet BiFPN num filters: 288\n",
      "I0529 13:06:03.572927  1944 ssd_efficientnet_bifpn_feature_extractor.py:148] EfficientDet BiFPN num iterations: 7\n",
      "I0529 13:06:03.577930  1944 efficientnet_model.py:144] round_filter input=32 output=48\n",
      "I0529 13:06:03.582522  1944 efficientnet_model.py:144] round_filter input=32 output=48\n",
      "I0529 13:06:03.582522  1944 efficientnet_model.py:144] round_filter input=16 output=24\n",
      "I0529 13:06:03.672944  1944 efficientnet_model.py:144] round_filter input=16 output=24\n",
      "I0529 13:06:03.672944  1944 efficientnet_model.py:144] round_filter input=24 output=40\n",
      "I0529 13:06:03.902635  1944 efficientnet_model.py:144] round_filter input=24 output=40\n",
      "I0529 13:06:03.902635  1944 efficientnet_model.py:144] round_filter input=40 output=64\n",
      "I0529 13:06:04.112625  1944 efficientnet_model.py:144] round_filter input=40 output=64\n",
      "I0529 13:06:04.112625  1944 efficientnet_model.py:144] round_filter input=80 output=128\n",
      "I0529 13:06:04.412812  1944 efficientnet_model.py:144] round_filter input=80 output=128\n",
      "I0529 13:06:04.412812  1944 efficientnet_model.py:144] round_filter input=112 output=176\n",
      "I0529 13:06:04.732575  1944 efficientnet_model.py:144] round_filter input=112 output=176\n",
      "I0529 13:06:04.732575  1944 efficientnet_model.py:144] round_filter input=192 output=304\n",
      "I0529 13:06:05.372940  1944 efficientnet_model.py:144] round_filter input=192 output=304\n",
      "I0529 13:06:05.372940  1944 efficientnet_model.py:144] round_filter input=320 output=512\n",
      "I0529 13:06:05.590236  1944 efficientnet_model.py:144] round_filter input=1280 output=2048\n",
      "I0529 13:06:05.622882  1944 efficientnet_model.py:454] Building model efficientnet with params ModelConfig(width_coefficient=1.6, depth_coefficient=2.2, resolution=456, dropout_rate=0.4, blocks=(BlockConfig(input_filters=32, output_filters=16, kernel_size=3, num_repeat=1, expand_ratio=1, strides=(1, 1), se_ratio=0.25, id_skip=True, fused_conv=False, conv_type='depthwise'), BlockConfig(input_filters=16, output_filters=24, kernel_size=3, num_repeat=2, expand_ratio=6, strides=(2, 2), se_ratio=0.25, id_skip=True, fused_conv=False, conv_type='depthwise'), BlockConfig(input_filters=24, output_filters=40, kernel_size=5, num_repeat=2, expand_ratio=6, strides=(2, 2), se_ratio=0.25, id_skip=True, fused_conv=False, conv_type='depthwise'), BlockConfig(input_filters=40, output_filters=80, kernel_size=3, num_repeat=3, expand_ratio=6, strides=(2, 2), se_ratio=0.25, id_skip=True, fused_conv=False, conv_type='depthwise'), BlockConfig(input_filters=80, output_filters=112, kernel_size=5, num_repeat=3, expand_ratio=6, strides=(1, 1), se_ratio=0.25, id_skip=True, fused_conv=False, conv_type='depthwise'), BlockConfig(input_filters=112, output_filters=192, kernel_size=5, num_repeat=4, expand_ratio=6, strides=(2, 2), se_ratio=0.25, id_skip=True, fused_conv=False, conv_type='depthwise'), BlockConfig(input_filters=192, output_filters=320, kernel_size=3, num_repeat=1, expand_ratio=6, strides=(1, 1), se_ratio=0.25, id_skip=True, fused_conv=False, conv_type='depthwise')), stem_base_filters=32, top_base_filters=1280, activation='simple_swish', batch_norm='default', bn_momentum=0.99, bn_epsilon=0.001, weight_decay=5e-06, drop_connect_rate=0.2, depth_divisor=8, min_depth=None, use_se=True, input_channels=3, num_classes=1000, model_name='efficientnet', rescale_input=False, data_format='channels_last', dtype='float32')\n",
      "I0529 13:06:05.677840  1944 ssd_efficientnet_bifpn_feature_extractor.py:145] EfficientDet EfficientNet backbone version: efficientnet-b6\n",
      "I0529 13:06:05.677840  1944 ssd_efficientnet_bifpn_feature_extractor.py:147] EfficientDet BiFPN num filters: 384\n",
      "I0529 13:06:05.677840  1944 ssd_efficientnet_bifpn_feature_extractor.py:148] EfficientDet BiFPN num iterations: 8\n",
      "I0529 13:06:05.677840  1944 efficientnet_model.py:144] round_filter input=32 output=56\n",
      "I0529 13:06:05.682933  1944 efficientnet_model.py:144] round_filter input=32 output=56\n",
      "I0529 13:06:05.682933  1944 efficientnet_model.py:144] round_filter input=16 output=32\n",
      "I0529 13:06:05.792655  1944 efficientnet_model.py:144] round_filter input=16 output=32\n",
      "I0529 13:06:05.792655  1944 efficientnet_model.py:144] round_filter input=24 output=40\n",
      "I0529 13:06:06.061936  1944 efficientnet_model.py:144] round_filter input=24 output=40\n",
      "I0529 13:06:06.061936  1944 efficientnet_model.py:144] round_filter input=40 output=72\n",
      "I0529 13:06:06.321905  1944 efficientnet_model.py:144] round_filter input=40 output=72\n",
      "I0529 13:06:06.321905  1944 efficientnet_model.py:144] round_filter input=80 output=144\n",
      "I0529 13:06:06.697590  1944 efficientnet_model.py:144] round_filter input=80 output=144\n",
      "I0529 13:06:06.697590  1944 efficientnet_model.py:144] round_filter input=112 output=200\n",
      "I0529 13:06:07.149717  1944 efficientnet_model.py:144] round_filter input=112 output=200\n",
      "I0529 13:06:07.149717  1944 efficientnet_model.py:144] round_filter input=192 output=344\n",
      "I0529 13:06:07.829861  1944 efficientnet_model.py:144] round_filter input=192 output=344\n",
      "I0529 13:06:07.829861  1944 efficientnet_model.py:144] round_filter input=320 output=576\n",
      "I0529 13:06:08.142468  1944 efficientnet_model.py:144] round_filter input=1280 output=2304\n",
      "I0529 13:06:08.192558  1944 efficientnet_model.py:454] Building model efficientnet with params ModelConfig(width_coefficient=1.8, depth_coefficient=2.6, resolution=528, dropout_rate=0.5, blocks=(BlockConfig(input_filters=32, output_filters=16, kernel_size=3, num_repeat=1, expand_ratio=1, strides=(1, 1), se_ratio=0.25, id_skip=True, fused_conv=False, conv_type='depthwise'), BlockConfig(input_filters=16, output_filters=24, kernel_size=3, num_repeat=2, expand_ratio=6, strides=(2, 2), se_ratio=0.25, id_skip=True, fused_conv=False, conv_type='depthwise'), BlockConfig(input_filters=24, output_filters=40, kernel_size=5, num_repeat=2, expand_ratio=6, strides=(2, 2), se_ratio=0.25, id_skip=True, fused_conv=False, conv_type='depthwise'), BlockConfig(input_filters=40, output_filters=80, kernel_size=3, num_repeat=3, expand_ratio=6, strides=(2, 2), se_ratio=0.25, id_skip=True, fused_conv=False, conv_type='depthwise'), BlockConfig(input_filters=80, output_filters=112, kernel_size=5, num_repeat=3, expand_ratio=6, strides=(1, 1), se_ratio=0.25, id_skip=True, fused_conv=False, conv_type='depthwise'), BlockConfig(input_filters=112, output_filters=192, kernel_size=5, num_repeat=4, expand_ratio=6, strides=(2, 2), se_ratio=0.25, id_skip=True, fused_conv=False, conv_type='depthwise'), BlockConfig(input_filters=192, output_filters=320, kernel_size=3, num_repeat=1, expand_ratio=6, strides=(1, 1), se_ratio=0.25, id_skip=True, fused_conv=False, conv_type='depthwise')), stem_base_filters=32, top_base_filters=1280, activation='simple_swish', batch_norm='default', bn_momentum=0.99, bn_epsilon=0.001, weight_decay=5e-06, drop_connect_rate=0.2, depth_divisor=8, min_depth=None, use_se=True, input_channels=3, num_classes=1000, model_name='efficientnet', rescale_input=False, data_format='channels_last', dtype='float32')\n",
      "I0529 13:06:08.262628  1944 ssd_efficientnet_bifpn_feature_extractor.py:145] EfficientDet EfficientNet backbone version: efficientnet-b7\n",
      "I0529 13:06:08.262628  1944 ssd_efficientnet_bifpn_feature_extractor.py:147] EfficientDet BiFPN num filters: 384\n",
      "I0529 13:06:08.262628  1944 ssd_efficientnet_bifpn_feature_extractor.py:148] EfficientDet BiFPN num iterations: 8\n",
      "I0529 13:06:08.262628  1944 efficientnet_model.py:144] round_filter input=32 output=64\n",
      "I0529 13:06:08.272903  1944 efficientnet_model.py:144] round_filter input=32 output=64\n",
      "I0529 13:06:08.272903  1944 efficientnet_model.py:144] round_filter input=16 output=32\n",
      "I0529 13:06:08.392641  1944 efficientnet_model.py:144] round_filter input=16 output=32\n",
      "I0529 13:06:08.392641  1944 efficientnet_model.py:144] round_filter input=24 output=48\n",
      "I0529 13:06:08.942552  1944 efficientnet_model.py:144] round_filter input=24 output=48\n",
      "I0529 13:06:08.942552  1944 efficientnet_model.py:144] round_filter input=40 output=80\n",
      "I0529 13:06:09.262579  1944 efficientnet_model.py:144] round_filter input=40 output=80\n",
      "I0529 13:06:09.262579  1944 efficientnet_model.py:144] round_filter input=80 output=160\n",
      "I0529 13:06:09.713997  1944 efficientnet_model.py:144] round_filter input=80 output=160\n",
      "I0529 13:06:09.713997  1944 efficientnet_model.py:144] round_filter input=112 output=224\n",
      "I0529 13:06:10.262373  1944 efficientnet_model.py:144] round_filter input=112 output=224\n",
      "I0529 13:06:10.262373  1944 efficientnet_model.py:144] round_filter input=192 output=384\n",
      "I0529 13:06:11.392711  1944 efficientnet_model.py:144] round_filter input=192 output=384\n",
      "I0529 13:06:11.392711  1944 efficientnet_model.py:144] round_filter input=320 output=640\n",
      "I0529 13:06:11.872918  1944 efficientnet_model.py:144] round_filter input=1280 output=2560\n",
      "I0529 13:06:11.922553  1944 efficientnet_model.py:454] Building model efficientnet with params ModelConfig(width_coefficient=2.0, depth_coefficient=3.1, resolution=600, dropout_rate=0.5, blocks=(BlockConfig(input_filters=32, output_filters=16, kernel_size=3, num_repeat=1, expand_ratio=1, strides=(1, 1), se_ratio=0.25, id_skip=True, fused_conv=False, conv_type='depthwise'), BlockConfig(input_filters=16, output_filters=24, kernel_size=3, num_repeat=2, expand_ratio=6, strides=(2, 2), se_ratio=0.25, id_skip=True, fused_conv=False, conv_type='depthwise'), BlockConfig(input_filters=24, output_filters=40, kernel_size=5, num_repeat=2, expand_ratio=6, strides=(2, 2), se_ratio=0.25, id_skip=True, fused_conv=False, conv_type='depthwise'), BlockConfig(input_filters=40, output_filters=80, kernel_size=3, num_repeat=3, expand_ratio=6, strides=(2, 2), se_ratio=0.25, id_skip=True, fused_conv=False, conv_type='depthwise'), BlockConfig(input_filters=80, output_filters=112, kernel_size=5, num_repeat=3, expand_ratio=6, strides=(1, 1), se_ratio=0.25, id_skip=True, fused_conv=False, conv_type='depthwise'), BlockConfig(input_filters=112, output_filters=192, kernel_size=5, num_repeat=4, expand_ratio=6, strides=(2, 2), se_ratio=0.25, id_skip=True, fused_conv=False, conv_type='depthwise'), BlockConfig(input_filters=192, output_filters=320, kernel_size=3, num_repeat=1, expand_ratio=6, strides=(1, 1), se_ratio=0.25, id_skip=True, fused_conv=False, conv_type='depthwise')), stem_base_filters=32, top_base_filters=1280, activation='simple_swish', batch_norm='default', bn_momentum=0.99, bn_epsilon=0.001, weight_decay=5e-06, drop_connect_rate=0.2, depth_divisor=8, min_depth=None, use_se=True, input_channels=3, num_classes=1000, model_name='efficientnet', rescale_input=False, data_format='channels_last', dtype='float32')\n",
      "INFO:tensorflow:time(__main__.ModelBuilderTF2Test.test_create_ssd_models_from_config): 15.64s\n",
      "I0529 13:06:12.004281  1944 test_util.py:2373] time(__main__.ModelBuilderTF2Test.test_create_ssd_models_from_config): 15.64s\n",
      "[       OK ] ModelBuilderTF2Test.test_create_ssd_models_from_config\n",
      "[ RUN      ] ModelBuilderTF2Test.test_invalid_faster_rcnn_batchnorm_update\n",
      "INFO:tensorflow:time(__main__.ModelBuilderTF2Test.test_invalid_faster_rcnn_batchnorm_update): 0.0s\n",
      "I0529 13:06:12.012913  1944 test_util.py:2373] time(__main__.ModelBuilderTF2Test.test_invalid_faster_rcnn_batchnorm_update): 0.0s\n",
      "[       OK ] ModelBuilderTF2Test.test_invalid_faster_rcnn_batchnorm_update\n",
      "[ RUN      ] ModelBuilderTF2Test.test_invalid_first_stage_nms_iou_threshold\n",
      "INFO:tensorflow:time(__main__.ModelBuilderTF2Test.test_invalid_first_stage_nms_iou_threshold): 0.0s\n",
      "I0529 13:06:12.012913  1944 test_util.py:2373] time(__main__.ModelBuilderTF2Test.test_invalid_first_stage_nms_iou_threshold): 0.0s\n",
      "[       OK ] ModelBuilderTF2Test.test_invalid_first_stage_nms_iou_threshold\n",
      "[ RUN      ] ModelBuilderTF2Test.test_invalid_model_config_proto\n",
      "INFO:tensorflow:time(__main__.ModelBuilderTF2Test.test_invalid_model_config_proto): 0.0s\n",
      "I0529 13:06:12.012913  1944 test_util.py:2373] time(__main__.ModelBuilderTF2Test.test_invalid_model_config_proto): 0.0s\n",
      "[       OK ] ModelBuilderTF2Test.test_invalid_model_config_proto\n",
      "[ RUN      ] ModelBuilderTF2Test.test_invalid_second_stage_batch_size\n",
      "INFO:tensorflow:time(__main__.ModelBuilderTF2Test.test_invalid_second_stage_batch_size): 0.0s\n",
      "I0529 13:06:12.012913  1944 test_util.py:2373] time(__main__.ModelBuilderTF2Test.test_invalid_second_stage_batch_size): 0.0s\n",
      "[       OK ] ModelBuilderTF2Test.test_invalid_second_stage_batch_size\n",
      "[ RUN      ] ModelBuilderTF2Test.test_session\n",
      "[  SKIPPED ] ModelBuilderTF2Test.test_session\n",
      "[ RUN      ] ModelBuilderTF2Test.test_unknown_faster_rcnn_feature_extractor\n",
      "INFO:tensorflow:time(__main__.ModelBuilderTF2Test.test_unknown_faster_rcnn_feature_extractor): 0.0s\n",
      "I0529 13:06:12.012913  1944 test_util.py:2373] time(__main__.ModelBuilderTF2Test.test_unknown_faster_rcnn_feature_extractor): 0.0s\n",
      "[       OK ] ModelBuilderTF2Test.test_unknown_faster_rcnn_feature_extractor\n",
      "[ RUN      ] ModelBuilderTF2Test.test_unknown_meta_architecture\n",
      "INFO:tensorflow:time(__main__.ModelBuilderTF2Test.test_unknown_meta_architecture): 0.0s\n",
      "I0529 13:06:12.012913  1944 test_util.py:2373] time(__main__.ModelBuilderTF2Test.test_unknown_meta_architecture): 0.0s\n",
      "[       OK ] ModelBuilderTF2Test.test_unknown_meta_architecture\n",
      "[ RUN      ] ModelBuilderTF2Test.test_unknown_ssd_feature_extractor\n",
      "INFO:tensorflow:time(__main__.ModelBuilderTF2Test.test_unknown_ssd_feature_extractor): 0.0s\n",
      "I0529 13:06:12.012913  1944 test_util.py:2373] time(__main__.ModelBuilderTF2Test.test_unknown_ssd_feature_extractor): 0.0s\n",
      "[       OK ] ModelBuilderTF2Test.test_unknown_ssd_feature_extractor\n",
      "----------------------------------------------------------------------\n",
      "Ran 24 tests in 18.752s\n",
      "\n",
      "OK (skipped=1)\n"
     ]
    }
   ],
   "source": [
    "VERIFICATION_SCRIPT = os.path.join(paths['APIMODEL_PATH'], 'research', 'object_detection', 'builders', 'model_builder_tf2_test.py')\n",
    "# Verify Installation\n",
    "!python {VERIFICATION_SCRIPT}"
   ]
  },
  {
   "cell_type": "code",
   "execution_count": null,
   "metadata": {},
   "outputs": [],
   "source": [
    "!pip install tensorflow tensorflow-gpu --upgrade"
   ]
  },
  {
   "cell_type": "code",
   "execution_count": null,
   "metadata": {},
   "outputs": [],
   "source": [
    "!pip install scipy"
   ]
  },
  {
   "cell_type": "code",
   "execution_count": null,
   "metadata": {},
   "outputs": [],
   "source": [
    "!pip install tf-models-official"
   ]
  },
  {
   "cell_type": "code",
   "execution_count": null,
   "metadata": {},
   "outputs": [],
   "source": [
    "!pip install tensorflow.io"
   ]
  },
  {
   "cell_type": "code",
   "execution_count": null,
   "metadata": {},
   "outputs": [],
   "source": [
    "!pip list"
   ]
  },
  {
   "cell_type": "code",
   "execution_count": null,
   "metadata": {},
   "outputs": [],
   "source": [
    "!python {VERIFICATION_SCRIPT}"
   ]
  },
  {
   "cell_type": "code",
   "execution_count": null,
   "metadata": {
    "colab": {
     "base_uri": "https://localhost:8080/"
    },
    "id": "csofht2npfDE",
    "outputId": "ff5471b2-bed2-43f2-959c-327a706527b6"
   },
   "outputs": [],
   "source": [
    "if os.name =='posix':\n",
    "    !wget {PRETRAINED_MODEL_URL}\n",
    "    !mv {PRETRAINED_MODEL_NAME+'.tar.gz'} {paths['PRETRAINED_MODEL_PATH']}\n",
    "    !cd {paths['PRETRAINED_MODEL_PATH']} && tar -zxvf {PRETRAINED_MODEL_NAME+'.tar.gz'}\n",
    "if os.name == 'nt':\n",
    "    wget.download(PRETRAINED_MODEL_URL)\n",
    "    !move {PRETRAINED_MODEL_NAME+'.tar.gz'} {paths['PRETRAINED_MODEL_PATH']}\n",
    "    !cd {paths['PRETRAINED_MODEL_PATH']} && tar -zxvf {PRETRAINED_MODEL_NAME+'.tar.gz'}"
   ]
  },
  {
   "cell_type": "markdown",
   "metadata": {
    "id": "M5KJTnkfpfDC"
   },
   "source": [
    "# 2. Creating the Label Map"
   ]
  },
  {
   "cell_type": "code",
   "execution_count": 7,
   "metadata": {
    "id": "p1BVDWo7pfDC"
   },
   "outputs": [],
   "source": [
    "labels = [{'name':'licence', 'id':1}]\n",
    "\n",
    "with open(files['LABELMAP'], 'w') as f:\n",
    "    for label in labels:\n",
    "        f.write('item { \\n')\n",
    "        f.write('\\tname:\\'{}\\'\\n'.format(label['name']))\n",
    "        f.write('\\tid:{}\\n'.format(label['id']))\n",
    "        f.write('}\\n')\n",
    "        \n",
    "with open(files['LABELMAP_NEW'], 'w') as f:\n",
    "    for label in labels:\n",
    "        f.write('item { \\n')\n",
    "        f.write('\\tname:\\'{}\\'\\n'.format(label['name']))\n",
    "        f.write('\\tid:{}\\n'.format(label['id']))\n",
    "        f.write('}\\n')"
   ]
  },
  {
   "cell_type": "markdown",
   "metadata": {
    "id": "C88zyVELpfDC"
   },
   "source": [
    "# 3. Creating TF records"
   ]
  },
  {
   "cell_type": "code",
   "execution_count": null,
   "metadata": {},
   "outputs": [],
   "source": [
    "# https://www.kaggle.com/datasets/andrewmvd/car-plate-detection?resource=download"
   ]
  },
  {
   "cell_type": "code",
   "execution_count": null,
   "metadata": {
    "colab": {
     "base_uri": "https://localhost:8080/"
    },
    "id": "kvf5WccwrFGq",
    "outputId": "49902aeb-0bd7-4298-e1a0-5b4a64eb2064"
   },
   "outputs": [],
   "source": [
    "# IF RUNNING ON COLAB\n",
    "ARCHIVE_FILES = os.path.join(paths['IMAGE_PATH'], 'archive.tar.gz')\n",
    "if os.path.exists(ARCHIVE_FILES):\n",
    "  !tar -zxvf {ARCHIVE_FILES}\n",
    "\n",
    "ARCHIVE_NEW_FILES = os.path.join(paths['IMAGE_NEW_PATH'], 'archive.zip')\n",
    "if os.path.exists(ARCHIVE_FILES):\n",
    "  !tar -zxvf {ARCHIVE_FILES}"
   ]
  },
  {
   "cell_type": "code",
   "execution_count": null,
   "metadata": {},
   "outputs": [],
   "source": [
    "!pip install pytz"
   ]
  },
  {
   "cell_type": "code",
   "execution_count": 47,
   "metadata": {
    "colab": {
     "base_uri": "https://localhost:8080/"
    },
    "id": "UPFToGZqpfDD",
    "outputId": "0ebb456f-aadc-4a1f-96e6-fbfec1923e1c"
   },
   "outputs": [
    {
     "name": "stdout",
     "output_type": "stream",
     "text": [
      "Successfully created the TFRecord file: Tensorflow\\workspace\\annotations\\train.record\n",
      "Successfully created the TFRecord file: Tensorflow\\workspace\\annotations\\test.record\n",
      "Successfully created the TFRecord file: Tensorflow\\workspace\\annotationsnew\\train.record\n",
      "Successfully created the TFRecord file: Tensorflow\\workspace\\annotationsnew\\test.record\n"
     ]
    }
   ],
   "source": [
    "!python {files['TF_RECORD_SCRIPT']} -x {os.path.join(paths['IMAGE_PATH'], 'train')} -l {files['LABELMAP']} -o {os.path.join(paths['ANNOTATION_PATH'], 'train.record')} \n",
    "!python {files['TF_RECORD_SCRIPT']} -x {os.path.join(paths['IMAGE_PATH'], 'test')} -l {files['LABELMAP']} -o {os.path.join(paths['ANNOTATION_PATH'], 'test.record')} \n",
    "\n",
    "!python {files['TF_RECORD_SCRIPT']} -x {os.path.join(paths['IMAGE_NEW_PATH'], 'train')} -l {files['LABELMAP_NEW']} -o {os.path.join(paths['ANNOTATION_NEW_PATH'], 'train.record')} \n",
    "!python {files['TF_RECORD_SCRIPT']} -x {os.path.join(paths['IMAGE_NEW_PATH'], 'test')} -l {files['LABELMAP_NEW']} -o {os.path.join(paths['ANNOTATION_NEW_PATH'], 'test.record')} "
   ]
  },
  {
   "cell_type": "markdown",
   "metadata": {
    "id": "qT4QU7pLpfDE"
   },
   "source": [
    "# 4. Copying Model Config to Training Folder"
   ]
  },
  {
   "cell_type": "code",
   "execution_count": 48,
   "metadata": {
    "id": "cOjuTFbwpfDF"
   },
   "outputs": [
    {
     "name": "stdout",
     "output_type": "stream",
     "text": [
      "        1 file(s) copied.\n",
      "        1 file(s) copied.\n"
     ]
    }
   ],
   "source": [
    "if os.name =='posix':\n",
    "    !cp {os.path.join(paths['PRETRAINED_MODEL_PATH'], PRETRAINED_MODEL_NAME, 'pipeline.config')} {os.path.join(paths['CHECKPOINT_PATH'])}\n",
    "    !cp {os.path.join(paths['PRETRAINED_MODEL_PATH'], PRETRAINED_MODEL_NAME, 'pipeline.config')} {os.path.join(paths['CHECKPOINT_NEW_PATH'])}\n",
    "if os.name == 'nt':\n",
    "    !copy {os.path.join(paths['PRETRAINED_MODEL_PATH'], PRETRAINED_MODEL_NAME, 'pipeline.config')} {os.path.join(paths['CHECKPOINT_PATH'])}\n",
    "    !copy {os.path.join(paths['PRETRAINED_MODEL_PATH'], PRETRAINED_MODEL_NAME, 'pipeline.config')} {os.path.join(paths['CHECKPOINT_NEW_PATH'])}"
   ]
  },
  {
   "cell_type": "markdown",
   "metadata": {
    "id": "Ga8gpNslpfDF"
   },
   "source": [
    "# 5. Updating Config For Transfer Learning"
   ]
  },
  {
   "cell_type": "code",
   "execution_count": 8,
   "metadata": {
    "id": "Z9hRrO_ppfDF"
   },
   "outputs": [],
   "source": [
    "import tensorflow as tf\n",
    "from object_detection.utils import config_util\n",
    "from object_detection.protos import pipeline_pb2\n",
    "from google.protobuf import text_format"
   ]
  },
  {
   "cell_type": "code",
   "execution_count": 50,
   "metadata": {
    "id": "c2A0mn4ipfDF"
   },
   "outputs": [],
   "source": [
    "config = config_util.get_configs_from_pipeline_file(files['PIPELINE_CONFIG'])\n",
    "config_new = config_util.get_configs_from_pipeline_file(files['PIPELINE_NEW_CONFIG'])"
   ]
  },
  {
   "cell_type": "code",
   "execution_count": 51,
   "metadata": {
    "id": "9vK5lotDpfDF"
   },
   "outputs": [],
   "source": [
    "pipeline_config = pipeline_pb2.TrainEvalPipelineConfig()\n",
    "with tf.io.gfile.GFile(files['PIPELINE_CONFIG'], \"r\") as f:                                                                                                                                                                                                                     \n",
    "    proto_str = f.read()  \n",
    "    text_format.Merge(proto_str, pipeline_config)\n",
    "    \n",
    "pipeline_config_new = pipeline_pb2.TrainEvalPipelineConfig()\n",
    "with tf.io.gfile.GFile(files['PIPELINE_NEW_CONFIG'], \"r\") as f_new:                                                                                                                                                                                                                     \n",
    "    proto_str_new = f_new.read()                                                                                                                                                                                                                                          \n",
    "    text_format.Merge(proto_str_new, pipeline_config_new)  "
   ]
  },
  {
   "cell_type": "code",
   "execution_count": 52,
   "metadata": {
    "id": "rP43Ph0JpfDG"
   },
   "outputs": [],
   "source": [
    "pipeline_config.model.ssd.num_classes = len(labels)\n",
    "pipeline_config.train_config.batch_size = 4\n",
    "pipeline_config.train_config.fine_tune_checkpoint = os.path.join(paths['PRETRAINED_MODEL_PATH'], PRETRAINED_MODEL_NAME, 'checkpoint', 'ckpt-0')\n",
    "pipeline_config.train_config.fine_tune_checkpoint_type = \"detection\"\n",
    "pipeline_config.train_input_reader.label_map_path= files['LABELMAP']\n",
    "pipeline_config.train_input_reader.tf_record_input_reader.input_path[:] = [os.path.join(paths['ANNOTATION_PATH'], 'train.record')]\n",
    "pipeline_config.eval_input_reader[0].label_map_path = files['LABELMAP']\n",
    "pipeline_config.eval_input_reader[0].tf_record_input_reader.input_path[:] = [os.path.join(paths['ANNOTATION_PATH'], 'test.record')]\n",
    "\n",
    "pipeline_config_new.model.ssd.num_classes = len(labels)\n",
    "pipeline_config_new.train_config.batch_size = 4\n",
    "pipeline_config_new.train_config.fine_tune_checkpoint = os.path.join(paths['PRETRAINED_MODEL_PATH'], PRETRAINED_MODEL_NAME, 'checkpoint', 'ckpt-0')\n",
    "pipeline_config_new.train_config.fine_tune_checkpoint_type = \"detection\"\n",
    "pipeline_config_new.train_input_reader.label_map_path= files['LABELMAP_NEW']\n",
    "pipeline_config_new.train_input_reader.tf_record_input_reader.input_path[:] = [os.path.join(paths['ANNOTATION_NEW_PATH'], 'train.record')]\n",
    "pipeline_config_new.eval_input_reader[0].label_map_path = files['LABELMAP_NEW']\n",
    "pipeline_config_new.eval_input_reader[0].tf_record_input_reader.input_path[:] = [os.path.join(paths['ANNOTATION_NEW_PATH'], 'test.record')]"
   ]
  },
  {
   "cell_type": "code",
   "execution_count": 53,
   "metadata": {
    "id": "oJvfgwWqpfDG"
   },
   "outputs": [],
   "source": [
    "config_text = text_format.MessageToString(pipeline_config)                                                                                                                                                                                                        \n",
    "with tf.io.gfile.GFile(files['PIPELINE_CONFIG'], \"wb\") as f:                                                                                                                                                                                                                     \n",
    "    f.write(config_text)   \n",
    "    \n",
    "config_text_new = text_format.MessageToString(pipeline_config_new)                                                                                                                                                                                                        \n",
    "with tf.io.gfile.GFile(files['PIPELINE_NEW_CONFIG'], \"wb\") as f:                                                                                                                                                                                                                     \n",
    "    f.write(config_text_new)"
   ]
  },
  {
   "cell_type": "markdown",
   "metadata": {
    "id": "Zr3ON7xMpfDG"
   },
   "source": [
    "# 6. Training the model"
   ]
  },
  {
   "cell_type": "code",
   "execution_count": 54,
   "metadata": {
    "id": "B-Y2UQmQpfDG"
   },
   "outputs": [],
   "source": [
    "TRAINING_SCRIPT = os.path.join(paths['APIMODEL_PATH'], 'research', 'object_detection', 'model_main_tf2.py')"
   ]
  },
  {
   "cell_type": "code",
   "execution_count": 55,
   "metadata": {
    "id": "jMP2XDfQpfDH"
   },
   "outputs": [],
   "source": [
    "command = \"python {} --model_dir={} --pipeline_config_path={} --num_train_steps=10000\".format(TRAINING_SCRIPT, paths['CHECKPOINT_PATH'],files['PIPELINE_CONFIG'])\n",
    "command_new = \"python {} --model_dir={} --pipeline_config_path={} --num_train_steps=2000\".format(TRAINING_SCRIPT, paths['CHECKPOINT_NEW_PATH'],files['PIPELINE_NEW_CONFIG'])"
   ]
  },
  {
   "cell_type": "code",
   "execution_count": 56,
   "metadata": {
    "colab": {
     "base_uri": "https://localhost:8080/"
    },
    "id": "A4OXXi-ApfDH",
    "outputId": "117a0e83-012b-466e-b7a6-ccaa349ac5ab"
   },
   "outputs": [
    {
     "name": "stdout",
     "output_type": "stream",
     "text": [
      "python Tensorflow\\models\\research\\object_detection\\model_main_tf2.py --model_dir=Tensorflow\\workspace\\models\\my_ssd_mobnet --pipeline_config_path=Tensorflow\\workspace\\models\\my_ssd_mobnet\\pipeline.config --num_train_steps=10000\n",
      "python Tensorflow\\models\\research\\object_detection\\model_main_tf2.py --model_dir=Tensorflow\\workspace\\models\\my_ssd_mobnet_new --pipeline_config_path=Tensorflow\\workspace\\models\\my_ssd_mobnet_new\\pipeline.config --num_train_steps=2000\n"
     ]
    }
   ],
   "source": [
    "print(command)\n",
    "print(command_new)"
   ]
  },
  {
   "cell_type": "code",
   "execution_count": null,
   "metadata": {},
   "outputs": [],
   "source": [
    "!pip install lvis"
   ]
  },
  {
   "cell_type": "code",
   "execution_count": null,
   "metadata": {
    "colab": {
     "base_uri": "https://localhost:8080/"
    },
    "id": "i3ZsJR-qpfDH",
    "outputId": "cabec5e1-45e6-4f2f-d9cf-297d9c1d0225"
   },
   "outputs": [],
   "source": [
    "!{command}\n",
    "!{command_new}"
   ]
  },
  {
   "cell_type": "markdown",
   "metadata": {
    "id": "4_YRZu7npfDH"
   },
   "source": [
    "# 7. Evaluating the Model"
   ]
  },
  {
   "cell_type": "code",
   "execution_count": 89,
   "metadata": {
    "id": "80L7-fdPpfDH"
   },
   "outputs": [],
   "source": [
    "command = \"python {} --model_dir={} --pipeline_config_path={} --checkpoint_dir={}\".format(TRAINING_SCRIPT, paths['CHECKPOINT_PATH'],files['PIPELINE_CONFIG'], paths['CHECKPOINT_PATH'])\n",
    "# command_new = \"python {} --model_dir={} --pipeline_config_path={} --checkpoint_dir={}\".format(TRAINING_SCRIPT, paths['CHECKPOINT_NEW_PATH'],files['PIPELINE_NEW_CONFIG'], paths['CHECKPOINT_NEW_PATH'])"
   ]
  },
  {
   "cell_type": "code",
   "execution_count": 90,
   "metadata": {
    "colab": {
     "base_uri": "https://localhost:8080/"
    },
    "id": "lYsgEPx9pfDH",
    "outputId": "8632d48b-91d2-45d9-bcb8-c1b172bf6eed"
   },
   "outputs": [
    {
     "name": "stdout",
     "output_type": "stream",
     "text": [
      "python Tensorflow\\models\\research\\object_detection\\model_main_tf2.py --model_dir=Tensorflow\\workspace\\models\\my_ssd_mobnet --pipeline_config_path=Tensorflow\\workspace\\models\\my_ssd_mobnet\\pipeline.config --checkpoint_dir=Tensorflow\\workspace\\models\\my_ssd_mobnet\n"
     ]
    }
   ],
   "source": [
    "print(command)\n",
    "# print(command_new)"
   ]
  },
  {
   "cell_type": "code",
   "execution_count": null,
   "metadata": {
    "id": "lqTV2jGBpfDH"
   },
   "outputs": [],
   "source": [
    "!{command}\n",
    "# !{command_new}"
   ]
  },
  {
   "cell_type": "markdown",
   "metadata": {
    "id": "orvRk02UpfDI"
   },
   "source": [
    "# 8. Loading Trained Model From Checkpoint and Building a Detection Model"
   ]
  },
  {
   "cell_type": "code",
   "execution_count": 6,
   "metadata": {
    "id": "8TYk4_oIpfDI"
   },
   "outputs": [],
   "source": [
    "import os\n",
    "import tensorflow as tf\n",
    "from object_detection.utils import label_map_util\n",
    "from object_detection.utils import visualization_utils as viz_utils\n",
    "from object_detection.builders import model_builder\n",
    "from object_detection.utils import config_util"
   ]
  },
  {
   "cell_type": "code",
   "execution_count": null,
   "metadata": {},
   "outputs": [],
   "source": [
    "!pip install GPUtil"
   ]
  },
  {
   "cell_type": "code",
   "execution_count": 7,
   "metadata": {},
   "outputs": [],
   "source": [
    "import GPUtil\n",
    "# Prevent GPU complete consumption\n",
    "gpus = tf.config.list_physical_devices('GPU')\n",
    "if gpus:\n",
    "    try: \n",
    "        tf.config.experimental.set_virtual_device_configuration(\n",
    "            gpus[0], [tf.config.experimental.VirtualDeviceConfiguration(memory_limit=5120)])\n",
    "    except RunTimeError as e:\n",
    "        print(e)"
   ]
  },
  {
   "cell_type": "code",
   "execution_count": 8,
   "metadata": {
    "id": "tDnQg-cYpfDI"
   },
   "outputs": [],
   "source": [
    "# Load pipeline config and build a detection model\n",
    "configs = config_util.get_configs_from_pipeline_file(files['PIPELINE_CONFIG'])\n",
    "detection_model = model_builder.build(model_config=configs['model'], is_training=False)\n",
    "# configs_new = config_util.get_configs_from_pipeline_file(files['PIPELINE_NEW_CONFIG'])\n",
    "# detection_model_new = model_builder.build(model_config=configs['model'], is_training=False)\n",
    "\n",
    "# Restore checkpoint\n",
    "ckpt = tf.compat.v2.train.Checkpoint(model=detection_model)\n",
    "ckpt.restore(os.path.join(paths['CHECKPOINT_PATH'], 'ckpt-11')).expect_partial()\n",
    "# ckpt_new = tf.compat.v2.train.Checkpoint(model=detection_model_new)\n",
    "# ckpt_new.restore(os.path.join(paths['CHECKPOINT_NEW_PATH'], 'ckpt-11')).expect_partial()\n",
    "\n",
    "@tf.function\n",
    "def detect_fn(image):\n",
    "    image, shapes = detection_model.preprocess(image)\n",
    "    prediction_dict = detection_model.predict(image, shapes)\n",
    "    detections = detection_model.postprocess(prediction_dict, shapes)\n",
    "    return detections\n",
    "\n",
    "# @tf.function\n",
    "# def detect_fn_new(image):\n",
    "    # image, shapes = detection_model_new.preprocess(image)\n",
    "    # prediction_dict = detection_model_new.predict(image, shapes)\n",
    "    # detections = detection_model_new.postprocess(prediction_dict, shapes)\n",
    "    # return detections"
   ]
  },
  {
   "cell_type": "markdown",
   "metadata": {
    "id": "0EmsmbBZpfDI"
   },
   "source": [
    "# 9. Detecting plate from an Image, OCR, Saving Results"
   ]
  },
  {
   "cell_type": "code",
   "execution_count": null,
   "metadata": {},
   "outputs": [],
   "source": [
    "!pip install avro-python3"
   ]
  },
  {
   "cell_type": "code",
   "execution_count": null,
   "metadata": {},
   "outputs": [],
   "source": [
    "!pip install opencv-python"
   ]
  },
  {
   "cell_type": "code",
   "execution_count": 9,
   "metadata": {
    "id": "Y_MKiuZ4pfDI"
   },
   "outputs": [],
   "source": [
    "import cv2 \n",
    "import numpy as np\n",
    "from matplotlib import pyplot as plt\n",
    "%matplotlib inline"
   ]
  },
  {
   "cell_type": "code",
   "execution_count": 10,
   "metadata": {
    "id": "cBDbIhNapfDI"
   },
   "outputs": [],
   "source": [
    "category_index = label_map_util.create_category_index_from_labelmap(files['LABELMAP'])\n",
    "# category_index_new = label_map_util.create_category_index_from_labelmap(files['LABELMAP_NEW'])"
   ]
  },
  {
   "cell_type": "code",
   "execution_count": 11,
   "metadata": {
    "id": "Lx3crOhOzITB"
   },
   "outputs": [],
   "source": [
    "IMAGE_PATH = os.path.join(paths['IMAGE_PATH'], 'TEST9.jpg')\n",
    "# IMAGE_PATH_NEW = os.path.join(paths['IMAGE_NEW_PATH'], 'Carsa.png')"
   ]
  },
  {
   "cell_type": "code",
   "execution_count": 12,
   "metadata": {
    "colab": {
     "base_uri": "https://localhost:8080/",
     "height": 269
    },
    "id": "Tpzn1SMry1yK",
    "outputId": "c392a2c5-10fe-4fc4-9998-a1d4c7db2bd3"
   },
   "outputs": [
    {
     "name": "stdout",
     "output_type": "stream",
     "text": [
      "ORIGINAL\n"
     ]
    },
    {
     "data": {
      "image/png": "[encoded data removed]",
      "text/plain": [
       "<Figure size 432x288 with 1 Axes>"
      ]
     },
     "metadata": {
      "needs_background": "light"
     },
     "output_type": "display_data"
    },
    {
     "name": "stdout",
     "output_type": "stream",
     "text": [
      "THRESH 1 ENHANCED\n"
     ]
    },
    {
     "data": {
      "image/png": "[encoded data removed]",
      "text/plain": [
       "<Figure size 432x288 with 1 Axes>"
      ]
     },
     "metadata": {
      "needs_background": "light"
     },
     "output_type": "display_data"
    },
    {
     "data": {
      "image/png": "[encoded data removed]",
      "text/plain": [
       "<Figure size 432x288 with 1 Axes>"
      ]
     },
     "metadata": {
      "needs_background": "light"
     },
     "output_type": "display_data"
    }
   ],
   "source": [
    "img_orig = cv2.imread(IMAGE_PATH)\n",
    "# print('ORIGINAL')\n",
    "# plt.imshow(img_orig)\n",
    "# plt.show()\n",
    "img_orig_gray = cv2.cvtColor(img_orig, cv2.COLOR_BGR2GRAY)\n",
    "print('ORIGINAL')\n",
    "plt.imshow(img_orig_gray, cmap='gray')\n",
    "plt.show()\n",
    "\n",
    "img_resized = cv2.resize(img_orig, None, fx=1.2, fy=1.2, interpolation=cv2.INTER_CUBIC)\n",
    "# print('IMPROVED RESOLUTION')\n",
    "# plt.imshow(img_resized)\n",
    "# plt.show()\n",
    "\n",
    "img_detailsEnhanced = cv2.detailEnhance(img_resized, sigma_s=10, sigma_r=0.15)\n",
    "# print('DETAILS ENHANCED')\n",
    "# plt.imshow(img_detailsEnhanced)\n",
    "#plt.show()\n",
    "\n",
    "# img_BilateralFilter = cv2.bilateralFilter(img_resized, 9, 75, 75)\n",
    "# print('BILATERAL FILTER')\n",
    "# plt.imshow(img_BilateralFilter)\n",
    "# plt.show()\n",
    "img_BilateralFilterEnhanced = cv2.bilateralFilter(img_detailsEnhanced, 9, 75, 75)\n",
    "# print('BILATERAL FILTER ENHANCED')\n",
    "# plt.imshow(img_BilateralFilterEnhanced)\n",
    "# plt.show()\n",
    "\n",
    "# img_BilateralFilterGray = cv2.cvtColor(img_BilateralFilter, cv2.COLOR_BGR2GRAY)\n",
    "# print('BILATERAL GRAY')\n",
    "# plt.imshow(img_BilateralFilterGray, cmap='gray')\n",
    "# plt.show()\n",
    "img_BilateralFilterEnhancedGray = cv2.cvtColor(img_BilateralFilterEnhanced, cv2.COLOR_BGR2GRAY)\n",
    "# print('BILATERAL GRAY ENHANCED')\n",
    "# plt.imshow(img_BilateralFilterGray, cmap='gray')\n",
    "# plt.show()\n",
    "\n",
    "# img_thresh_orig = cv2.threshold(cv2.medianBlur(img_orig_gray, 3), 0, 255, cv2.THRESH_BINARY + cv2.THRESH_OTSU)[1]\n",
    "# print('THRESH 1 ORIGINAL')\n",
    "# plt.imshow(img_thresh_orig, cmap='gray')\n",
    "# plt.show()\n",
    "img_threshEnhanced = cv2.threshold(cv2.medianBlur(img_BilateralFilterEnhancedGray, 3), 0, 255, cv2.THRESH_BINARY + cv2.THRESH_OTSU)[1]\n",
    "print('THRESH 1 ENHANCED')\n",
    "plt.imshow(img_threshEnhanced, cmap='gray')\n",
    "plt.show()\n",
    "# img_thresh = cv2.threshold(cv2.medianBlur(img_BilateralFilterGray, 3), 0, 255, cv2.THRESH_BINARY + cv2.THRESH_OTSU)[1]\n",
    "# print('THRESH 1')\n",
    "# plt.imshow(img_thresh, cmap='gray')\n",
    "# plt.show()\n",
    "\n",
    "# img_thresh_adaptive_original = cv2.adaptiveThreshold(img_orig_gray, 255, cv2.ADAPTIVE_THRESH_MEAN_C, cv2.THRESH_BINARY, 11, 2)\n",
    "# print('THRESH 2 ORIGINAL')\n",
    "# plt.imshow(img_thresh_adaptive_original, cmap='gray')\n",
    "# plt.show()\n",
    "# img_thresh_adaptiveEnhanced = cv2.adaptiveThreshold(img_BilateralFilterEnhancedGray, 255, cv2.ADAPTIVE_THRESH_MEAN_C, cv2.THRESH_BINARY, 11, 2)\n",
    "# print('THRESH 2 ENHANCED')\n",
    "# plt.imshow(img_thresh_adaptiveEnhanced, cmap='gray')\n",
    "# plt.show()\n",
    "# img_thresh_adaptive = cv2.adaptiveThreshold(img_BilateralFilterGray, 255, cv2.ADAPTIVE_THRESH_MEAN_C, cv2.THRESH_BINARY, 11, 2)\n",
    "# print('THRESH 2')\n",
    "# plt.imshow(img_thresh_adaptive, cmap='gray')\n",
    "# plt.show()\n",
    "\n",
    "# img_thresh_adaptive2_original = cv2.adaptiveThreshold(img_orig_gray, 255, cv2.ADAPTIVE_THRESH_GAUSSIAN_C, cv2.THRESH_BINARY, 11, 2)\n",
    "# print('THRESH 3 ORIGINAL')\n",
    "# plt.imshow(img_thresh_adaptive2_original, cmap='gray')\n",
    "# plt.show()\n",
    "# img_thresh_adaptive2Enhanced = cv2.adaptiveThreshold(img_BilateralFilterEnhancedGray, 255, cv2.ADAPTIVE_THRESH_GAUSSIAN_C, cv2.THRESH_BINARY, 11, 2)\n",
    "# print('THRESH 3 ENHANCED')\n",
    "# plt.imshow(img_thresh_adaptive2Enhanced, cmap='gray')\n",
    "# plt.show()\n",
    "# img_thresh_adaptive2 = cv2.adaptiveThreshold(img_BilateralFilterGray, 255, cv2.ADAPTIVE_THRESH_GAUSSIAN_C, cv2.THRESH_BINARY, 11, 2)\n",
    "# print('THRESH 3')\n",
    "# plt.imshow(img_thresh_adaptive2, cmap='gray')\n",
    "# plt.show()\n",
    "\n",
    "image_np = np.array(img_orig)\n",
    "# img_new = cv2.imread(IMAGE_PATH_NEW)\n",
    "# image_np_new = np.array(img_new)\n",
    "\n",
    "input_tensor = tf.convert_to_tensor(np.expand_dims(image_np, 0), dtype=tf.float32)\n",
    "detections = detect_fn(input_tensor)\n",
    "# input_tensor_new = tf.convert_to_tensor(np.expand_dims(image_np_new, 0), dtype=tf.float32)\n",
    "# detections_new = detect_fn_new(input_tensor_new)\n",
    "\n",
    "num_detections = int(detections.pop('num_detections'))\n",
    "detections = {key: value[0, :num_detections].numpy()\n",
    "              for key, value in detections.items()}\n",
    "detections['num_detections'] = num_detections\n",
    "# num_detections_new = int(detections_new.pop('num_detections'))\n",
    "# detections_new = {key: value[0, :num_detections_new].numpy()\n",
    "              # for key, value in detections_new.items()}\n",
    "# detections_new['num_detections'] = num_detections_new\n",
    "\n",
    "# detection_classes should be ints.\n",
    "detections['detection_classes'] = detections['detection_classes'].astype(np.int64)\n",
    "# detections_new['detection_classes'] = detections_new['detection_classes'].astype(np.int64)\n",
    "\n",
    "label_id_offset = 1\n",
    "image_np_with_detections = image_np.copy()\n",
    "# image_np_with_detections_new = image_np_new.copy()\n",
    "\n",
    "viz_utils.visualize_boxes_and_labels_on_image_array(\n",
    "            image_np_with_detections,\n",
    "            detections['detection_boxes'],\n",
    "            detections['detection_classes']+label_id_offset,\n",
    "            detections['detection_scores'],\n",
    "            category_index,\n",
    "            use_normalized_coordinates=True,\n",
    "            max_boxes_to_draw=5,\n",
    "            min_score_thresh=.8,\n",
    "            agnostic_mode=False)\n",
    "# viz_utils.visualize_boxes_and_labels_on_image_array(\n",
    "#             image_np_with_detections_new,\n",
    "#             detections_new['detection_boxes'],\n",
    "#             detections_new['detection_classes']+label_id_offset,\n",
    "#             detections_new['detection_scores'],\n",
    "#             category_index_new,\n",
    "#             use_normalized_coordinates=True,\n",
    "#             max_boxes_to_draw=5,\n",
    "#             min_score_thresh=.8,\n",
    "#             agnostic_mode=False)\n",
    "\n",
    "plt.imshow(cv2.cvtColor(image_np_with_detections, cv2.COLOR_BGR2RGB))\n",
    "# plt.imshow(cv2.cvtColor(image_np_with_detections_new, cv2.COLOR_BGR2RGB))\n",
    "plt.show()"
   ]
  },
  {
   "cell_type": "markdown",
   "metadata": {},
   "source": [
    "# OCR Filtering"
   ]
  },
  {
   "cell_type": "code",
   "execution_count": null,
   "metadata": {},
   "outputs": [],
   "source": [
    "!pip install easyocr"
   ]
  },
  {
   "cell_type": "code",
   "execution_count": null,
   "metadata": {},
   "outputs": [],
   "source": [
    "!pip install torch torchvision torchaudio --extra-index-url https://download.pytorch.org/whl/cu113"
   ]
  },
  {
   "cell_type": "code",
   "execution_count": 13,
   "metadata": {},
   "outputs": [],
   "source": [
    "import easyocr"
   ]
  },
  {
   "cell_type": "code",
   "execution_count": 14,
   "metadata": {},
   "outputs": [],
   "source": [
    "def filter_text(region, ocr_result, region_threshold):\n",
    "    rectangle_size = region.shape[0]*region.shape[1]\n",
    "    \n",
    "    plate = [] \n",
    "    for result in ocr_result:\n",
    "        length = np.sum(np.subtract(result[0][1], result[0][0]))\n",
    "        height = np.sum(np.subtract(result[0][2], result[0][1]))\n",
    "        \n",
    "        if length*height / rectangle_size > region_threshold:\n",
    "            plate.append(result[1])\n",
    "    return plate"
   ]
  },
  {
   "cell_type": "markdown",
   "metadata": {},
   "source": [
    "# OCR proccess and filtering"
   ]
  },
  {
   "cell_type": "code",
   "execution_count": 15,
   "metadata": {},
   "outputs": [],
   "source": [
    "detection_threshold = 0.7\n",
    "region_threshold = 0.6"
   ]
  },
  {
   "cell_type": "code",
   "execution_count": 16,
   "metadata": {},
   "outputs": [],
   "source": [
    "def ocr_it(image, detections, detection_threshold, region_threshold):\n",
    "    \n",
    "    # Scores, boxes and classes above threhold\n",
    "    scores = list(filter(lambda x: x> detection_threshold, detections['detection_scores']))\n",
    "    boxes = detections['detection_boxes'][:len(scores)]\n",
    "    classes = detections['detection_classes'][:len(scores)]\n",
    "    \n",
    "    # Full image dimensions\n",
    "    width = image.shape[1]\n",
    "    height = image.shape[0]\n",
    "    \n",
    "    # Apply ROI filtering and OCR\n",
    "    for idx, box in enumerate(boxes):\n",
    "        roi = box*[height, width, height, width]\n",
    "        region = image[int(roi[0]):int(roi[2]),int(roi[1]):int(roi[3])]\n",
    "        reader = easyocr.Reader(['en'])\n",
    "        ocr_result = reader.readtext(region)\n",
    "        \n",
    "        text = filter_text(region, ocr_result, region_threshold)\n",
    "        \n",
    "        plt.imshow(cv2.cvtColor(region, cv2.COLOR_BGR2RGB))\n",
    "        plt.show()\n",
    "        print(text)\n",
    "        return text, region"
   ]
  },
  {
   "cell_type": "markdown",
   "metadata": {},
   "source": [
    "# Saving Results"
   ]
  },
  {
   "cell_type": "code",
   "execution_count": 17,
   "metadata": {},
   "outputs": [],
   "source": [
    "import csv\n",
    "import uuid\n",
    "from datetime import datetime"
   ]
  },
  {
   "cell_type": "code",
   "execution_count": 23,
   "metadata": {},
   "outputs": [],
   "source": [
    "def save_results(text, region):\n",
    "    \n",
    "    now = datetime.now()\n",
    "    date_string = now.strftime('%y-%m-%d')\n",
    "    print(date_string)\n",
    "    time_string = now.strftime('%H-%M-%S')\n",
    "    print(time_string)\n",
    "    \n",
    "    folder_path_images = 'RealTimeDetectionsImages\\RealTimeDetections-{}'.format(date_string)\n",
    "    img_name = '{}_{}.jpg'.format(time_string, uuid.uuid1())\n",
    "    forlder_path_csv = 'RealTimeDetections'\n",
    "    csv_filename = 'RealTimeDetections\\RealTimeDetections-{}.csv'.format(date_string)\n",
    "    \n",
    "    if not os.path.exists(folder_path_images):\n",
    "        if os.name == 'posix':\n",
    "            !mkdir -p {folder_path_images}\n",
    "        if os.name == 'nt':\n",
    "            !mkdir {folder_path_images}\n",
    "    \n",
    "    if not os.path.exists(forlder_path_csv):\n",
    "        if os.name == 'posix':\n",
    "            !mkdir -p {forlder_path_csv}\n",
    "        if os.name == 'nt':\n",
    "            !mkdir {forlder_path_csv}\n",
    "            \n",
    "    cv2.imwrite(os.path.join(folder_path_images, img_name), region)\n",
    "                \n",
    "    with open(csv_filename, mode='a', newline='') as f:\n",
    "        csv_writer = csv.writer(f, delimiter=',', quotechar='\"', quoting=csv.QUOTE_MINIMAL)\n",
    "        if text == []:\n",
    "            text = ['unreadable']\n",
    "        csv_writer.writerow([date_string, time_string, img_name, text])\n",
    "        "
   ]
  },
  {
   "cell_type": "markdown",
   "metadata": {
    "id": "IsNAaYAo0WVL"
   },
   "source": [
    "# 10. Real Time Detections from Webcam"
   ]
  },
  {
   "cell_type": "code",
   "execution_count": 19,
   "metadata": {},
   "outputs": [],
   "source": [
    "import cv2"
   ]
  },
  {
   "cell_type": "code",
   "execution_count": 24,
   "metadata": {
    "id": "o_grs6OGpfDJ",
    "scrolled": false
   },
   "outputs": [
    {
     "name": "stderr",
     "output_type": "stream",
     "text": [
      "CUDA not available - defaulting to CPU. Note: This module is much faster with a GPU.\n",
      "CUDA not available - defaulting to CPU. Note: This module is much faster with a GPU.\n",
      "CUDA not available - defaulting to CPU. Note: This module is much faster with a GPU.\n"
     ]
    },
    {
     "data": {
      "image/png": "[encoded data removed]",
      "text/plain": [
       "<Figure size 432x288 with 1 Axes>"
      ]
     },
     "metadata": {
      "needs_background": "light"
     },
     "output_type": "display_data"
    },
    {
     "name": "stderr",
     "output_type": "stream",
     "text": [
      "CUDA not available - defaulting to CPU. Note: This module is much faster with a GPU.\n"
     ]
    },
    {
     "name": "stdout",
     "output_type": "stream",
     "text": [
      "['MHIZ DE1433']\n",
      "22-05-29\n",
      "13-19-28\n"
     ]
    },
    {
     "data": {
      "image/png": "[encoded data removed]",
      "text/plain": [
       "<Figure size 432x288 with 1 Axes>"
      ]
     },
     "metadata": {
      "needs_background": "light"
     },
     "output_type": "display_data"
    },
    {
     "name": "stderr",
     "output_type": "stream",
     "text": [
      "CUDA not available - defaulting to CPU. Note: This module is much faster with a GPU.\n"
     ]
    },
    {
     "name": "stdout",
     "output_type": "stream",
     "text": [
      "['HH12 DE1433']\n",
      "22-05-29\n",
      "13-19-30\n"
     ]
    },
    {
     "data": {
      "image/png": "[encoded data removed]",
      "text/plain": [
       "<Figure size 432x288 with 1 Axes>"
      ]
     },
     "metadata": {
      "needs_background": "light"
     },
     "output_type": "display_data"
    },
    {
     "name": "stdout",
     "output_type": "stream",
     "text": [
      "['MHIZDE1433']\n",
      "22-05-29\n",
      "13-19-32\n"
     ]
    },
    {
     "name": "stderr",
     "output_type": "stream",
     "text": [
      "CUDA not available - defaulting to CPU. Note: This module is much faster with a GPU.\n"
     ]
    },
    {
     "data": {
      "image/png": "[encoded data removed]",
      "text/plain": [
       "<Figure size 432x288 with 1 Axes>"
      ]
     },
     "metadata": {
      "needs_background": "light"
     },
     "output_type": "display_data"
    },
    {
     "name": "stdout",
     "output_type": "stream",
     "text": [
      "['HHIZDE1433']\n",
      "22-05-29\n",
      "13-19-35\n"
     ]
    }
   ],
   "source": [
    "cap = cv2.VideoCapture(0)\n",
    "width = int(cap.get(cv2.CAP_PROP_FRAME_WIDTH))\n",
    "height = int(cap.get(cv2.CAP_PROP_FRAME_HEIGHT))\n",
    "\n",
    "while cap.isOpened(): \n",
    "    ret, frame = cap.read()\n",
    "\n",
    "    image_np = np.array(frame)\n",
    "    \n",
    "    input_tensor = tf.convert_to_tensor(np.expand_dims(image_np, 0), dtype=tf.float32)\n",
    "    detections = detect_fn(input_tensor)\n",
    "    # detections_new = detect_fn(input_tensor)\n",
    "    \n",
    "    num_detections = int(detections.pop('num_detections'))\n",
    "    detections = {key: value[0, :num_detections].numpy()\n",
    "                  for key, value in detections.items()}\n",
    "    detections['num_detections'] = num_detections\n",
    "    # num_detections_new = int(detections_new.pop('num_detections'))\n",
    "    # detections_new = {key: value[0, :num_detections_new].numpy()\n",
    "    #               for key, value in detections_new.items()}\n",
    "    # detections_new['num_detections'] = num_detections_new\n",
    "    \n",
    "    # detection_classes should be ints.\n",
    "    detections['detection_classes'] = detections['detection_classes'].astype(np.int64)\n",
    "    # detections_new['detection_classes'] = detections_new['detection_classes'].astype(np.int64)\n",
    "\n",
    "    label_id_offset = 1\n",
    "    image_np_with_detections = image_np.copy()\n",
    "    \n",
    "    img_resized = cv2.resize(image_np_with_detections, None, fx=1.2, fy=1.2, interpolation=cv2.INTER_CUBIC)\n",
    "    img_detailsEnhanced = cv2.detailEnhance(img_resized, sigma_s=10, sigma_r=0.15)\n",
    "    img_BilateralFilterEnhanced = cv2.bilateralFilter(img_detailsEnhanced, 9, 75, 75)\n",
    "    img_BilateralFilterEnhancedGray = cv2.cvtColor(img_BilateralFilterEnhanced, cv2.COLOR_BGR2GRAY)\n",
    "\n",
    "    viz_utils.visualize_boxes_and_labels_on_image_array(\n",
    "                image_np_with_detections,\n",
    "                detections['detection_boxes'],\n",
    "                detections['detection_classes']+label_id_offset,\n",
    "                detections['detection_scores'],\n",
    "                category_index,\n",
    "                use_normalized_coordinates=True,\n",
    "                max_boxes_to_draw=5,\n",
    "                min_score_thresh=.8,\n",
    "                agnostic_mode=False)\n",
    "    # viz_utils.visualize_boxes_and_labels_on_image_array(\n",
    "    #             image_np_with_detections,\n",
    "    #             detections_new['detection_boxes'],\n",
    "    #             detections_new['detection_classes']+label_id_offset,\n",
    "    #             detections_new['detection_scores'],\n",
    "    #             category_index_new,\n",
    "    #             use_normalized_coordinates=True,\n",
    "    #             max_boxes_to_draw=5,\n",
    "    #             min_score_thresh=.8,\n",
    "    #             agnostic_mode=False)\n",
    "    \n",
    "    try:\n",
    "        text, region = ocr_it(image_np_with_detections, detections, detection_threshold, region_threshold)\n",
    "        # text, region = ocr_it(image_np_with_detections_new, detections_new, detection_threshold, region_threshold)\n",
    "        save_results(text, region)\n",
    "    except:\n",
    "        pass\n",
    "\n",
    "    cv2.imshow('object detection',  cv2.resize(image_np_with_detections, (800, 600)))\n",
    "    \n",
    "    if cv2.waitKey(10) & 0xFF == ord('q'):\n",
    "        cap.release()\n",
    "        cv2.destroyAllWindows()\n",
    "        break"
   ]
  },
  {
   "cell_type": "markdown",
   "metadata": {
    "id": "rzlM4jt0pfDJ"
   },
   "source": [
    "# 10. Freezing the Graph"
   ]
  },
  {
   "cell_type": "code",
   "execution_count": 88,
   "metadata": {
    "id": "n4olHB2npfDJ"
   },
   "outputs": [],
   "source": [
    "FREEZE_SCRIPT = os.path.join(paths['APIMODEL_PATH'], 'research', 'object_detection', 'exporter_main_v2.py ')"
   ]
  },
  {
   "cell_type": "code",
   "execution_count": 78,
   "metadata": {
    "id": "0AjO93QDpfDJ"
   },
   "outputs": [],
   "source": [
    "command = \"python {} --input_type=image_tensor --pipeline_config_path={} --trained_checkpoint_dir={} --output_directory={}\".format(FREEZE_SCRIPT ,files['PIPELINE_CONFIG'], paths['CHECKPOINT_PATH'], paths['OUTPUT_PATH'])\n",
    "# command_new = \"python {} --input_type=image_tensor --pipeline_config_path={} --trained_checkpoint_dir={} --output_directory={}\".format(FREEZE_SCRIPT ,files['PIPELINE_NEW_CONFIG'], paths['CHECKPOINT_NEW_PATH'], paths['OUTPUT_NEW_PATH'])"
   ]
  },
  {
   "cell_type": "code",
   "execution_count": 79,
   "metadata": {
    "colab": {
     "base_uri": "https://localhost:8080/"
    },
    "id": "F6Lsp3tCpfDJ",
    "outputId": "c3828529-bf06-4df5-d7f3-145890ec3edd"
   },
   "outputs": [
    {
     "name": "stdout",
     "output_type": "stream",
     "text": [
      "python Tensorflow\\models\\research\\object_detection\\exporter_main_v2.py  --input_type=image_tensor --pipeline_config_path=Tensorflow\\workspace\\models\\my_ssd_mobnet\\pipeline.config --trained_checkpoint_dir=Tensorflow\\workspace\\models\\my_ssd_mobnet --output_directory=Tensorflow\\workspace\\models\\my_ssd_mobnet\\export\n"
     ]
    }
   ],
   "source": [
    "print(command)\n",
    "# print(command_new)"
   ]
  },
  {
   "cell_type": "code",
   "execution_count": null,
   "metadata": {
    "colab": {
     "base_uri": "https://localhost:8080/"
    },
    "id": "1Sw1ULgHpfDJ",
    "outputId": "6fd441e1-9fc9-4889-d072-3395c21e40b6"
   },
   "outputs": [],
   "source": [
    "!{command}\n",
    "# !{command_new}"
   ]
  },
  {
   "cell_type": "markdown",
   "metadata": {
    "id": "wTPmdqaXpfDK"
   },
   "source": [
    "# 11. Conversion to TFJS"
   ]
  },
  {
   "cell_type": "code",
   "execution_count": null,
   "metadata": {
    "colab": {
     "base_uri": "https://localhost:8080/"
    },
    "id": "gZ6UzY_fpfDK",
    "outputId": "0c84722e-1c2b-4002-d857-80827ade828a",
    "scrolled": true
   },
   "outputs": [],
   "source": [
    "!pip install tensorflowjs"
   ]
  },
  {
   "cell_type": "code",
   "execution_count": 80,
   "metadata": {
    "id": "0oxbVynHpfDK"
   },
   "outputs": [],
   "source": [
    "command = \"tensorflowjs_converter --input_format=tf_saved_model --output_node_names='detection_boxes,detection_classes,detection_features,detection_multiclass_scores,detection_scores,num_detections,raw_detection_boxes,raw_detection_scores' --output_format=tfjs_graph_model --signature_name=serving_default {} {}\".format(os.path.join(paths['OUTPUT_PATH'], 'saved_model'), paths['TFJS_PATH'])\n",
    "# command_new = \"tensorflowjs_converter --input_format=tf_saved_model --output_node_names='detection_boxes,detection_classes,detection_features,detection_multiclass_scores,detection_scores,num_detections,raw_detection_boxes,raw_detection_scores' --output_format=tfjs_graph_model --signature_name=serving_default {} {}\".format(os.path.join(paths['OUTPUT_NEW_PATH'], 'saved_model'), paths['TFJS_NEW_PATH'])"
   ]
  },
  {
   "cell_type": "code",
   "execution_count": 81,
   "metadata": {
    "colab": {
     "base_uri": "https://localhost:8080/"
    },
    "id": "DB2AGNmJpfDK",
    "outputId": "fbc9f747-f511-47e8-df8f-5ea65cef0374"
   },
   "outputs": [
    {
     "name": "stdout",
     "output_type": "stream",
     "text": [
      "tensorflowjs_converter --input_format=tf_saved_model --output_node_names='detection_boxes,detection_classes,detection_features,detection_multiclass_scores,detection_scores,num_detections,raw_detection_boxes,raw_detection_scores' --output_format=tfjs_graph_model --signature_name=serving_default Tensorflow\\workspace\\models\\my_ssd_mobnet\\export\\saved_model Tensorflow\\workspace\\models\\my_ssd_mobnet\\tfjsexport\n"
     ]
    }
   ],
   "source": [
    "print(command)\n",
    "# print(command_new)"
   ]
  },
  {
   "cell_type": "code",
   "execution_count": null,
   "metadata": {
    "colab": {
     "base_uri": "https://localhost:8080/"
    },
    "id": "K7rfT4-hpfDK",
    "outputId": "532707fd-6feb-4bc6-84a3-325b5d16303c"
   },
   "outputs": [],
   "source": [
    "!{command}\n",
    "# !{command_new}"
   ]
  },
  {
   "cell_type": "markdown",
   "metadata": {
    "id": "VtUw73FHpfDK"
   },
   "source": [
    "# 12. Conversion to TFLite"
   ]
  },
  {
   "cell_type": "code",
   "execution_count": 82,
   "metadata": {
    "id": "XviMtewLpfDK"
   },
   "outputs": [],
   "source": [
    "TFLITE_SCRIPT = os.path.join(paths['APIMODEL_PATH'], 'research', 'object_detection', 'export_tflite_graph_tf2.py ')"
   ]
  },
  {
   "cell_type": "code",
   "execution_count": 83,
   "metadata": {
    "id": "us86cjC4pfDL"
   },
   "outputs": [],
   "source": [
    "command = \"python {} --pipeline_config_path={} --trained_checkpoint_dir={} --output_directory={}\".format(TFLITE_SCRIPT ,files['PIPELINE_CONFIG'], paths['CHECKPOINT_PATH'], paths['TFLITE_PATH'])\n",
    "# command_new = \"python {} --pipeline_config_path={} --trained_checkpoint_dir={} --output_directory={}\".format(TFLITE_SCRIPT ,files['PIPELINE_NEW_CONFIG'], paths['CHECKPOINT_NEW_PATH'], paths['TFLITE_NEW_PATH'])"
   ]
  },
  {
   "cell_type": "code",
   "execution_count": 84,
   "metadata": {
    "colab": {
     "base_uri": "https://localhost:8080/"
    },
    "id": "n1r5YO3rpfDL",
    "outputId": "5fcdf7a4-eee2-4365-f1ca-1751968379ea"
   },
   "outputs": [
    {
     "name": "stdout",
     "output_type": "stream",
     "text": [
      "python Tensorflow\\models\\research\\object_detection\\export_tflite_graph_tf2.py  --pipeline_config_path=Tensorflow\\workspace\\models\\my_ssd_mobnet\\pipeline.config --trained_checkpoint_dir=Tensorflow\\workspace\\models\\my_ssd_mobnet --output_directory=Tensorflow\\workspace\\models\\my_ssd_mobnet\\tfliteexport\n"
     ]
    }
   ],
   "source": [
    "print(command)\n",
    "# print(command_new)"
   ]
  },
  {
   "cell_type": "code",
   "execution_count": null,
   "metadata": {
    "colab": {
     "base_uri": "https://localhost:8080/"
    },
    "id": "I-xWpHN8pfDL",
    "outputId": "7f6bacd8-d077-43b5-c131-5b081fba24a4"
   },
   "outputs": [],
   "source": [
    "!{command}\n",
    "# !{command_new}"
   ]
  },
  {
   "cell_type": "code",
   "execution_count": 86,
   "metadata": {
    "id": "iJfYMbN6pfDL"
   },
   "outputs": [],
   "source": [
    "FROZEN_TFLITE_PATH = os.path.join(paths['TFLITE_PATH'], 'saved_model')\n",
    "TFLITE_MODEL = os.path.join(paths['TFLITE_PATH'], 'saved_model', 'detect.tflite')\n",
    "\n",
    "# FROZEN_TFLITE_PATH_NEW = os.path.join(paths['TFLITE_NEW_PATH'], 'saved_model')\n",
    "# TFLITE_MODEL_NEW = os.path.join(paths['TFLITE_NEW_PATH'], 'saved_model', 'detect.tflite')"
   ]
  },
  {
   "cell_type": "code",
   "execution_count": 87,
   "metadata": {},
   "outputs": [],
   "source": [
    "command = \"tflite_convert \\\n",
    "--saved_model_dir={} \\\n",
    "--output_file={} \\\n",
    "--input_shapes=1,300,300,3 \\\n",
    "--input_arrays=normalized_input_image_tensor \\\n",
    "--output_arrays='TFLite_Detection_PostProcess','TFLite_Detection_PostProcess:1','TFLite_Detection_PostProcess:2','TFLite_Detection_PostProcess:3' \\\n",
    "--inference_type=FLOAT \\\n",
    "--allow_custom_ops\".format(FROZEN_TFLITE_PATH, TFLITE_MODEL, )\n",
    "\n",
    "# command_new = \"tflite_convert \\\n",
    "# --saved_model_dir={} \\\n",
    "# --output_file={} \\\n",
    "# --input_shapes=1,300,300,3 \\\n",
    "# --input_arrays=normalized_input_image_tensor \\\n",
    "# --output_arrays='TFLite_Detection_PostProcess','TFLite_Detection_PostProcess:1','TFLite_Detection_PostProcess:2','TFLite_Detection_PostProcess:3' \\\n",
    "# --inference_type=FLOAT \\\n",
    "# --allow_custom_ops\".format(FROZEN_TFLITE_PATH_NEW, TFLITE_MODEL_NEW, )"
   ]
  },
  {
   "cell_type": "code",
   "execution_count": 88,
   "metadata": {
    "colab": {
     "base_uri": "https://localhost:8080/"
    },
    "id": "E8GwUeoFpfDL",
    "outputId": "fac43ea4-cc85-471b-a362-e994b06fd583"
   },
   "outputs": [
    {
     "name": "stdout",
     "output_type": "stream",
     "text": [
      "tflite_convert --saved_model_dir=Tensorflow\\workspace\\models\\my_ssd_mobnet\\tfliteexport\\saved_model --output_file=Tensorflow\\workspace\\models\\my_ssd_mobnet\\tfliteexport\\saved_model\\detect.tflite --input_shapes=1,300,300,3 --input_arrays=normalized_input_image_tensor --output_arrays='TFLite_Detection_PostProcess','TFLite_Detection_PostProcess:1','TFLite_Detection_PostProcess:2','TFLite_Detection_PostProcess:3' --inference_type=FLOAT --allow_custom_ops\n"
     ]
    }
   ],
   "source": [
    "print(command)\n",
    "# print(command_new)"
   ]
  },
  {
   "cell_type": "code",
   "execution_count": null,
   "metadata": {
    "colab": {
     "base_uri": "https://localhost:8080/"
    },
    "id": "Nbd7gqHMpfDL",
    "outputId": "7c8fe6d5-2415-4641-8548-39d425c202f7"
   },
   "outputs": [],
   "source": [
    "!{command}\n",
    "# !{command_new}"
   ]
  },
  {
   "cell_type": "markdown",
   "metadata": {
    "id": "5NQqZRdA21Uc"
   },
   "source": [
    "# 13. Zipping and Exporting Models "
   ]
  },
  {
   "cell_type": "code",
   "execution_count": null,
   "metadata": {},
   "outputs": [],
   "source": [
    "!pip install google-colab"
   ]
  },
  {
   "cell_type": "code",
   "execution_count": null,
   "metadata": {
    "id": "tTVTGCQp2ZJJ"
   },
   "outputs": [],
   "source": [
    "!tar -czf models.tar.gz {paths['CHECKPOINT_PATH']}\n",
    "# !tar -czf models.tar.gz {path['CHECKPOINT_NEW_PATH']}"
   ]
  },
  {
   "cell_type": "code",
   "execution_count": null,
   "metadata": {},
   "outputs": [],
   "source": [
    "import google.colab"
   ]
  },
  {
   "cell_type": "code",
   "execution_count": null,
   "metadata": {
    "colab": {
     "base_uri": "https://localhost:8080/"
    },
    "id": "whShhB0x3PYJ",
    "outputId": "b773201d-35c9-46a8-b893-4a76bd4d5d97"
   },
   "outputs": [],
   "source": [
    "from google.colab import drive\n",
    "drive.mount('/content/drive')"
   ]
  },
  {
   "cell_type": "code",
   "execution_count": 129,
   "metadata": {},
   "outputs": [],
   "source": [
    "from os import listdir\n",
    "from os.path import isfile, join\n",
    "import pandas as pd"
   ]
  },
  {
   "cell_type": "code",
   "execution_count": 160,
   "metadata": {},
   "outputs": [
    {
     "name": "stdout",
     "output_type": "stream",
     "text": [
      "['22-05-25', '22-05-25', '22-05-25', '22-05-25', '22-05-25', '22-05-25', '22-05-25', '22-05-25', '22-05-25', '22-05-25', '22-05-25', '22-05-25', '22-05-25']\n",
      "\n",
      "['17-41-54', '17-41-59', '17-42-01', '17-42-11', '17-42-23', '17-42-32', '17-42-42', '17-42-48', '17-42-50', '17-42-56', '17-43-02', '17-43-13', '17-43-18']\n",
      "\n",
      "['17-41-54_d2244524-dc38-11ec-8f03-28dfeb6a105c.jpg', '17-41-59_d53f947e-dc38-11ec-a0c1-28dfeb6a105c.jpg', '17-42-01_d655af49-dc38-11ec-a255-28dfeb6a105c.jpg', '17-42-11_dc6f7ca1-dc38-11ec-8722-28dfeb6a105c.jpg', '17-42-23_e384acf8-dc38-11ec-b1d7-28dfeb6a105c.jpg', '17-42-32_e89b7694-dc38-11ec-883a-28dfeb6a105c.jpg', '17-42-42_eed76ca6-dc38-11ec-bdf2-28dfeb6a105c.jpg', '17-42-48_f235291e-dc38-11ec-8187-28dfeb6a105c.jpg', '17-42-50_f3c7a5f9-dc38-11ec-96c0-28dfeb6a105c.jpg', '17-42-56_f75bf8c7-dc38-11ec-9e31-28dfeb6a105c.jpg', '17-43-02_fa7dcc48-dc38-11ec-a797-28dfeb6a105c.jpg', '17-43-13_010e7d66-dc39-11ec-bc65-28dfeb6a105c.jpg', '17-43-18_0423d749-dc39-11ec-b14a-28dfeb6a105c.jpg']\n",
      "\n",
      "['MHIZDE1433', 'MHIZDE1433', 'MAIZ DE1433', 'SAv335c0', 'unreadable', 'BLe654BP', 'BLO654BP', 'BL 2654BP', 'unreadable', 'unreadable', 'BOIRU', 'BOE', 'TO1RU']\n",
      "\n",
      "['22-05-26', '22-05-26', '22-05-26', '22-05-26', '22-05-26', '22-05-26', '22-05-26', '22-05-26', '22-05-26', '22-05-26', '22-05-26', '22-05-26', '22-05-26', '22-05-26', '22-05-26', '22-05-26', '22-05-26', '22-05-26', '22-05-26', '22-05-26', '22-05-26', '22-05-26', '22-05-26', '22-05-26', '22-05-26', '22-05-26', '22-05-26', '22-05-26', '22-05-26', '22-05-26', '22-05-26', '22-05-26', '22-05-26', '22-05-26']\n",
      "\n",
      "['20-54-41', '20-54-52', '20-54-58', '20-55-03', '20-55-33', '20-55-49', '20-55-51', '20-55-53', '20-55-55', '20-57-42', '20-57-44', '20-57-50', '20-57-51', '20-58-10', '20-58-12', '20-58-37', '20-58-44', '20-59-51', '20-59-53', '20-59-56', '21-00-03', '21-00-05', '21-00-07', '21-00-09', '21-00-11', '21-00-51', '21-00-53', '21-00-57', '21-00-59', '21-01-02', '21-01-04', '21-02-08', '21-02-28', '21-02-30']\n",
      "\n",
      "['20-54-41_eb3481cf-dd1c-11ec-a384-28dfeb6a105c.jpg', '20-54-52_f1ad3f8c-dd1c-11ec-86ab-28dfeb6a105c.jpg', '20-54-58_f539546d-dd1c-11ec-8fbc-28dfeb6a105c.jpg', '20-55-03_f7f8ccbe-dd1c-11ec-ad17-28dfeb6a105c.jpg', '20-55-33_0a026e95-dd1d-11ec-b875-28dfeb6a105c.jpg', '20-55-49_138a8c77-dd1d-11ec-bd7e-28dfeb6a105c.jpg', '20-55-51_14b0a8a5-dd1d-11ec-ba1f-28dfeb6a105c.jpg', '20-55-53_15d3e96e-dd1d-11ec-ab2c-28dfeb6a105c.jpg', '20-55-55_16f5d4d8-dd1d-11ec-bbc5-28dfeb6a105c.jpg', '20-57-42_570b37e2-dd1d-11ec-8fa3-28dfeb6a105c.jpg', '20-57-44_582ceabc-dd1d-11ec-bd52-28dfeb6a105c.jpg', '20-57-50_5b889ed1-dd1d-11ec-94fe-28dfeb6a105c.jpg', '20-57-51_5ca78e4f-dd1d-11ec-8833-28dfeb6a105c.jpg', '20-58-10_67be2cf9-dd1d-11ec-8f7f-28dfeb6a105c.jpg', '20-58-12_69172a0e-dd1d-11ec-8664-28dfeb6a105c.jpg', '20-58-37_77dd5528-dd1d-11ec-a405-28dfeb6a105c.jpg', '20-58-44_7bad614a-dd1d-11ec-8dce-28dfeb6a105c.jpg', '20-59-51_a3e00a0c-dd1d-11ec-8085-28dfeb6a105c.jpg', '20-59-53_a56039ac-dd1d-11ec-9162-28dfeb6a105c.jpg', '20-59-56_a69ddff8-dd1d-11ec-b511-28dfeb6a105c.jpg', '21-00-03_aafb238a-dd1d-11ec-a700-28dfeb6a105c.jpg', '21-00-05_ac3865bc-dd1d-11ec-9292-28dfeb6a105c.jpg', '21-00-07_ad610daf-dd1d-11ec-8ed9-28dfeb6a105c.jpg', '21-00-09_ae87348f-dd1d-11ec-af63-28dfeb6a105c.jpg', '21-00-11_afec3ee1-dd1d-11ec-94d3-28dfeb6a105c.jpg', '21-00-51_c7c0f21a-dd1d-11ec-b318-28dfeb6a105c.jpg', '21-00-53_c8eb1115-dd1d-11ec-811c-28dfeb6a105c.jpg', '21-00-57_cb63bcd6-dd1d-11ec-bf7d-28dfeb6a105c.jpg', '21-00-59_cca9bfac-dd1d-11ec-b4ac-28dfeb6a105c.jpg', '21-01-02_cdefbc7e-dd1d-11ec-bf71-28dfeb6a105c.jpg', '21-01-04_cf2067d8-dd1d-11ec-b6ac-28dfeb6a105c.jpg', '21-02-08_f571c386-dd1d-11ec-940b-28dfeb6a105c.jpg', '21-02-28_018188f7-dd1e-11ec-b241-28dfeb6a105c.jpg', '21-02-30_02d1b3c2-dd1e-11ec-b6c6-28dfeb6a105c.jpg']\n",
      "\n",
      "['TVvoooo7', '1Vv00007', '[Vvoooo7', 'unreadable', 'B OIERU', '8 007 BMW', '8 007 BMW', '8 007 BMW', 'B 007 BMW', 'MHI2 DE143', 'MHI2DE1433', 'MHIZ DE4433', 'MH12 DE 1432', 'S133c0', 'unreadable', 'SA0335C0', 'unreadable', 'Vooodz', 'TVv00007', 'unreadable', 'T9ooodz', 'unreadable', 'Tvoooo7', 'T900dz', 'BL265-ER', 'BLO654BP', 'BLO654BP', 'BLe654BP', 'BLP654BP', 'unreadable', 'BLO654BP', 'TTERU', 'unreadable', 'B OIERU']\n",
      "\n",
      "['22-05-29', '22-05-29', '22-05-29', '22-05-29']\n",
      "\n",
      "['13-19-28', '13-19-30', '13-19-32', '13-19-35']\n",
      "\n",
      "['13-19-28_d2ce57b9-df38-11ec-9cec-84a93815fc0b.jpg', '13-19-30_d3fb0d09-df38-11ec-b118-84a93815fc0b.jpg', '13-19-32_d526949d-df38-11ec-b32c-84a93815fc0b.jpg', '13-19-35_d66a9cc9-df38-11ec-918d-84a93815fc0b.jpg']\n",
      "\n",
      "['MHIZ DE1433', 'HH12 DE1433', 'MHIZDE1433', 'HHIZDE1433']\n",
      "\n"
     ]
    }
   ],
   "source": [
    "csvfiles = [f for f in listdir('RealTimeDetections') if isfile(join('RealTimeDetections', f))]\n",
    "csvfiles = csvfiles[1:]\n",
    "\n",
    "for elem in csvfiles:\n",
    "    dataDate = pd.read_csv(os.path.join('RealTimeDetections', elem), header=None, usecols=[0])\n",
    "    dataTime = pd.read_csv(os.path.join('RealTimeDetections', elem), header=None, usecols=[1])\n",
    "    dataFileName = pd.read_csv(os.path.join('RealTimeDetections', elem), header=None, usecols=[2])\n",
    "    dataPlate = pd.read_csv(os.path.join('RealTimeDetections', elem), header=None, usecols=[3])\n",
    "    \n",
    "    listDate = dataDate.values.tolist()\n",
    "    listTime = dataTime.values.tolist()\n",
    "    listFileName = dataFileName.values.tolist()\n",
    "    listPlate = dataPlate.values.tolist()\n",
    "    \n",
    "    # print(listDate)\n",
    "    # print(listTime)\n",
    "    # print(listFileName)\n",
    "    # print(listPlate)\n",
    "    \n",
    "    listDateNew = [elem[0] for elem in listDate]\n",
    "    listTimeNew = [elem[0] for elem in listTime]\n",
    "    listFileNameNew = [elem[0] for elem in listFileName]\n",
    "    listPlateNew = [elem[0] for elem in listPlate]\n",
    "    \n",
    "    \n",
    "    print(listDateNew)\n",
    "    print()\n",
    "    print(listTimeNew)\n",
    "    print()\n",
    "    print(listFileNameNew)\n",
    "    print()\n",
    "    # print(listPlateNew)\n",
    "    # print()\n",
    "    \n",
    "    listPlateNewNew = []\n",
    "    for elem in listPlateNew:\n",
    "        elem = elem[2:-2]\n",
    "        listPlateNewNew.append(elem)\n",
    "        \n",
    "    print(listPlateNewNew)\n",
    "    print()"
   ]
  },
  {
   "cell_type": "code",
   "execution_count": 116,
   "metadata": {},
   "outputs": [
    {
     "name": "stdout",
     "output_type": "stream",
     "text": [
      "Placute neprocesate:\n",
      "['BLO65LBF', 'BLe654BP', 'unreadable', 'BLO654BP', 'BLO654BP', 'BLO6SLBP', 'BLO654BP', 'BLe654BP', 'BLe654BP', 'BLO654BP', 'BL265-ER', 'BLO654BP', 'BLO654BP', 'BLe654BP', 'BLP654BP', 'BLO654BP', 'BLP64BP']\n",
      "\n",
      "Numar de placute: 16\n",
      "\n",
      "Placute:\n",
      "['BLO65LBF', 'BLe654BP', 'BLO654BP', 'BLO654BP', 'BLO6SLBP', 'BLO654BP', 'BLe654BP', 'BLe654BP', 'BLO654BP', 'BL265-ER', 'BLO654BP', 'BLO654BP', 'BLe654BP', 'BLP654BP', 'BLO654BP', 'BLP64BP']\n",
      "\n",
      "Placute sortate:\n",
      "['BL265-ER', 'BLO654BP', 'BLO654BP', 'BLO654BP', 'BLO654BP', 'BLO654BP', 'BLO654BP', 'BLO654BP', 'BLO65LBF', 'BLO6SLBP', 'BLP64BP', 'BLP654BP', 'BLe654BP', 'BLe654BP', 'BLe654BP', 'BLe654BP']\n",
      "\n",
      "Placute fara dubluri:\n",
      "['BL265-ER', 'BLe654BP', 'BLO6SLBP', 'BLO65LBF', 'BLO654BP', 'BLP654BP', 'BLP64BP']\n",
      "\n",
      "Numar de aparitii fiecare placuta unica:\n",
      "[1, 4, 1, 1, 7, 1, 1]\n",
      "\n",
      "Cel mai mare numar de aparitii: 7\n",
      "Se afla la indexul: 4\n",
      "\n",
      "BLP64BP stearsa din detectii!\n",
      "\n",
      "Placute luate in considerare:\n",
      "['BL265-ER', 'BLe654BP', 'BLO6SLBP', 'BLO65LBF', 'BLO654BP', 'BLP654BP']\n",
      "Cu numerele de apartii:\n",
      "[1, 4, 1, 1, 7, 1]\n",
      "\n",
      "Litera de pe indexul 0 din placuta cu numarul 0 este B si are un factor de 1\n",
      "Litera de pe indexul 0 din placuta cu numarul 1 este B si are un factor de 4\n",
      "Litera de pe indexul 0 din placuta cu numarul 2 este B si are un factor de 1\n",
      "Litera de pe indexul 0 din placuta cu numarul 3 este B si are un factor de 1\n",
      "Litera de pe indexul 0 din placuta cu numarul 4 este B si are un factor de 7\n",
      "Litera de pe indexul 0 din placuta cu numarul 5 este B si are un factor de 1\n",
      "\n",
      "Litera de pe indexul 1 din placuta cu numarul 0 este L si are un factor de 1\n",
      "Litera de pe indexul 1 din placuta cu numarul 1 este L si are un factor de 4\n",
      "Litera de pe indexul 1 din placuta cu numarul 2 este L si are un factor de 1\n",
      "Litera de pe indexul 1 din placuta cu numarul 3 este L si are un factor de 1\n",
      "Litera de pe indexul 1 din placuta cu numarul 4 este L si are un factor de 7\n",
      "Litera de pe indexul 1 din placuta cu numarul 5 este L si are un factor de 1\n",
      "\n",
      "Litera de pe indexul 2 din placuta cu numarul 0 este 2 si are un factor de 1\n",
      "Litera de pe indexul 2 din placuta cu numarul 1 este e si are un factor de 4\n",
      "Litera de pe indexul 2 din placuta cu numarul 2 este O si are un factor de 1\n",
      "Litera de pe indexul 2 din placuta cu numarul 3 este O si are un factor de 1\n",
      "Litera de pe indexul 2 din placuta cu numarul 4 este O si are un factor de 7\n",
      "Litera de pe indexul 2 din placuta cu numarul 5 este P si are un factor de 1\n",
      "\n",
      "Litera de pe indexul 3 din placuta cu numarul 0 este 6 si are un factor de 1\n",
      "Litera de pe indexul 3 din placuta cu numarul 1 este 6 si are un factor de 4\n",
      "Litera de pe indexul 3 din placuta cu numarul 2 este 6 si are un factor de 1\n",
      "Litera de pe indexul 3 din placuta cu numarul 3 este 6 si are un factor de 1\n",
      "Litera de pe indexul 3 din placuta cu numarul 4 este 6 si are un factor de 7\n",
      "Litera de pe indexul 3 din placuta cu numarul 5 este 6 si are un factor de 1\n",
      "\n",
      "Litera de pe indexul 4 din placuta cu numarul 0 este 5 si are un factor de 1\n",
      "Litera de pe indexul 4 din placuta cu numarul 1 este 5 si are un factor de 4\n",
      "Litera de pe indexul 4 din placuta cu numarul 2 este S si are un factor de 1\n",
      "Litera de pe indexul 4 din placuta cu numarul 3 este 5 si are un factor de 1\n",
      "Litera de pe indexul 4 din placuta cu numarul 4 este 5 si are un factor de 7\n",
      "Litera de pe indexul 4 din placuta cu numarul 5 este 5 si are un factor de 1\n",
      "\n",
      "Litera de pe indexul 5 din placuta cu numarul 0 este - si are un factor de 1\n",
      "Litera de pe indexul 5 din placuta cu numarul 1 este 4 si are un factor de 4\n",
      "Litera de pe indexul 5 din placuta cu numarul 2 este L si are un factor de 1\n",
      "Litera de pe indexul 5 din placuta cu numarul 3 este L si are un factor de 1\n",
      "Litera de pe indexul 5 din placuta cu numarul 4 este 4 si are un factor de 7\n",
      "Litera de pe indexul 5 din placuta cu numarul 5 este 4 si are un factor de 1\n",
      "\n",
      "Litera de pe indexul 6 din placuta cu numarul 0 este E si are un factor de 1\n",
      "Litera de pe indexul 6 din placuta cu numarul 1 este B si are un factor de 4\n",
      "Litera de pe indexul 6 din placuta cu numarul 2 este B si are un factor de 1\n",
      "Litera de pe indexul 6 din placuta cu numarul 3 este B si are un factor de 1\n",
      "Litera de pe indexul 6 din placuta cu numarul 4 este B si are un factor de 7\n",
      "Litera de pe indexul 6 din placuta cu numarul 5 este B si are un factor de 1\n",
      "\n",
      "Litera de pe indexul 7 din placuta cu numarul 0 este R si are un factor de 1\n",
      "Litera de pe indexul 7 din placuta cu numarul 1 este P si are un factor de 4\n",
      "Litera de pe indexul 7 din placuta cu numarul 2 este P si are un factor de 1\n",
      "Litera de pe indexul 7 din placuta cu numarul 3 este F si are un factor de 1\n",
      "Litera de pe indexul 7 din placuta cu numarul 4 este P si are un factor de 7\n",
      "Litera de pe indexul 7 din placuta cu numarul 5 este P si are un factor de 1\n",
      "\n",
      "Pentru caracterul de pe indexul 0 luam in considerare: ['B'] cu factorii [15]\n",
      "Pentru caracterul de pe indexul 1 luam in considerare: ['L'] cu factorii [15]\n",
      "Pentru caracterul de pe indexul 2 luam in considerare: ['2', 'e', 'O', 'P'] cu factorii [1, 4, 9, 1]\n",
      "Pentru caracterul de pe indexul 3 luam in considerare: ['6'] cu factorii [15]\n",
      "Pentru caracterul de pe indexul 4 luam in considerare: ['5', 'S'] cu factorii [14, 1]\n",
      "Pentru caracterul de pe indexul 5 luam in considerare: ['-', '4', 'L'] cu factorii [1, 12, 2]\n",
      "Pentru caracterul de pe indexul 6 luam in considerare: ['E', 'B'] cu factorii [1, 14]\n",
      "Pentru caracterul de pe indexul 7 luam in considerare: ['R', 'P', 'F'] cu factorii [1, 13, 1]\n",
      "\n",
      "Pentru indexul 0 am ales B\n",
      "Pentru indexul 1 am ales L\n",
      "Pentru indexul 2 am ales O\n",
      "Pentru indexul 3 am ales 6\n",
      "Pentru indexul 4 am ales 5\n",
      "Pentru indexul 5 am ales 4\n",
      "Pentru indexul 6 am ales B\n",
      "Pentru indexul 7 am ales P\n",
      "\n",
      "Placuta finala: BLO654BP\n",
      "Placute neprocesate:\n",
      "['MHIZDE1433', 'MHIZDE1433', 'MHIZDE1433', 'MHIZDE1433', 'MAIZ DE1433', 'MHI2 DE143', 'MHI2DE1433', 'MHIZ DE4433', 'MH12 DE 1432', 'MHIZ DE1433', 'HH12 DE1433', 'MHIZDE1433', 'HHIZDE1433']\n",
      "\n",
      "Numar de placute: 13\n",
      "\n",
      "Placute:\n",
      "['MHIZDE1433', 'MHIZDE1433', 'MHIZDE1433', 'MHIZDE1433', 'MAIZ DE1433', 'MHI2 DE143', 'MHI2DE1433', 'MHIZ DE4433', 'MH12 DE 1432', 'MHIZ DE1433', 'HH12 DE1433', 'MHIZDE1433', 'HHIZDE1433']\n",
      "\n",
      "Placute sortate:\n",
      "['HH12 DE1433', 'HHIZDE1433', 'MAIZ DE1433', 'MH12 DE 1432', 'MHI2 DE143', 'MHI2DE1433', 'MHIZ DE1433', 'MHIZ DE4433', 'MHIZDE1433', 'MHIZDE1433', 'MHIZDE1433', 'MHIZDE1433', 'MHIZDE1433']\n",
      "\n",
      "Placute fara dubluri:\n",
      "['HHIZDE1433', 'MHIZDE1433', 'HH12 DE1433', 'MHIZ DE4433', 'MAIZ DE1433', 'MH12 DE 1432', 'MHIZ DE1433', 'MHI2DE1433', 'MHI2 DE143']\n",
      "\n",
      "Numar de aparitii fiecare placuta unica:\n",
      "[1, 5, 1, 1, 1, 1, 1, 1, 1]\n",
      "\n",
      "Cel mai mare numar de aparitii: 5\n",
      "Se afla la indexul: 1\n",
      "\n",
      "HH12 DE1433 stearsa din detectii!\n",
      "MHIZ DE4433 stearsa din detectii!\n",
      "MAIZ DE1433 stearsa din detectii!\n",
      "MH12 DE 1432 stearsa din detectii!\n",
      "MHIZ DE1433 stearsa din detectii!\n",
      "\n",
      "Placute luate in considerare:\n",
      "['HHIZDE1433', 'MHIZDE1433', 'MHI2DE1433', 'MHI2 DE143']\n",
      "Cu numerele de apartii:\n",
      "[1, 5, 1, 1]\n",
      "\n",
      "Litera de pe indexul 0 din placuta cu numarul 0 este H si are un factor de 1\n",
      "Litera de pe indexul 0 din placuta cu numarul 1 este M si are un factor de 5\n",
      "Litera de pe indexul 0 din placuta cu numarul 2 este M si are un factor de 1\n",
      "Litera de pe indexul 0 din placuta cu numarul 3 este M si are un factor de 1\n",
      "\n",
      "Litera de pe indexul 1 din placuta cu numarul 0 este H si are un factor de 1\n",
      "Litera de pe indexul 1 din placuta cu numarul 1 este H si are un factor de 5\n",
      "Litera de pe indexul 1 din placuta cu numarul 2 este H si are un factor de 1\n",
      "Litera de pe indexul 1 din placuta cu numarul 3 este H si are un factor de 1\n",
      "\n",
      "Litera de pe indexul 2 din placuta cu numarul 0 este I si are un factor de 1\n",
      "Litera de pe indexul 2 din placuta cu numarul 1 este I si are un factor de 5\n",
      "Litera de pe indexul 2 din placuta cu numarul 2 este I si are un factor de 1\n",
      "Litera de pe indexul 2 din placuta cu numarul 3 este I si are un factor de 1\n",
      "\n",
      "Litera de pe indexul 3 din placuta cu numarul 0 este Z si are un factor de 1\n",
      "Litera de pe indexul 3 din placuta cu numarul 1 este Z si are un factor de 5\n",
      "Litera de pe indexul 3 din placuta cu numarul 2 este 2 si are un factor de 1\n",
      "Litera de pe indexul 3 din placuta cu numarul 3 este 2 si are un factor de 1\n",
      "\n",
      "Litera de pe indexul 4 din placuta cu numarul 0 este D si are un factor de 1\n",
      "Litera de pe indexul 4 din placuta cu numarul 1 este D si are un factor de 5\n",
      "Litera de pe indexul 4 din placuta cu numarul 2 este D si are un factor de 1\n",
      "Litera de pe indexul 4 din placuta cu numarul 3 este   si are un factor de 1\n",
      "\n",
      "Litera de pe indexul 5 din placuta cu numarul 0 este E si are un factor de 1\n",
      "Litera de pe indexul 5 din placuta cu numarul 1 este E si are un factor de 5\n",
      "Litera de pe indexul 5 din placuta cu numarul 2 este E si are un factor de 1\n",
      "Litera de pe indexul 5 din placuta cu numarul 3 este D si are un factor de 1\n",
      "\n",
      "Litera de pe indexul 6 din placuta cu numarul 0 este 1 si are un factor de 1\n",
      "Litera de pe indexul 6 din placuta cu numarul 1 este 1 si are un factor de 5\n",
      "Litera de pe indexul 6 din placuta cu numarul 2 este 1 si are un factor de 1\n",
      "Litera de pe indexul 6 din placuta cu numarul 3 este E si are un factor de 1\n",
      "\n",
      "Litera de pe indexul 7 din placuta cu numarul 0 este 4 si are un factor de 1\n",
      "Litera de pe indexul 7 din placuta cu numarul 1 este 4 si are un factor de 5\n",
      "Litera de pe indexul 7 din placuta cu numarul 2 este 4 si are un factor de 1\n",
      "Litera de pe indexul 7 din placuta cu numarul 3 este 1 si are un factor de 1\n",
      "\n",
      "Litera de pe indexul 8 din placuta cu numarul 0 este 3 si are un factor de 1\n",
      "Litera de pe indexul 8 din placuta cu numarul 1 este 3 si are un factor de 5\n",
      "Litera de pe indexul 8 din placuta cu numarul 2 este 3 si are un factor de 1\n",
      "Litera de pe indexul 8 din placuta cu numarul 3 este 4 si are un factor de 1\n",
      "\n",
      "Litera de pe indexul 9 din placuta cu numarul 0 este 3 si are un factor de 1\n",
      "Litera de pe indexul 9 din placuta cu numarul 1 este 3 si are un factor de 5\n",
      "Litera de pe indexul 9 din placuta cu numarul 2 este 3 si are un factor de 1\n",
      "Litera de pe indexul 9 din placuta cu numarul 3 este 3 si are un factor de 1\n",
      "\n",
      "Pentru caracterul de pe indexul 0 luam in considerare: ['H', 'M'] cu factorii [1, 7]\n",
      "Pentru caracterul de pe indexul 1 luam in considerare: ['H'] cu factorii [8]\n",
      "Pentru caracterul de pe indexul 2 luam in considerare: ['I'] cu factorii [8]\n",
      "Pentru caracterul de pe indexul 3 luam in considerare: ['Z', '2'] cu factorii [6, 2]\n",
      "Pentru caracterul de pe indexul 4 luam in considerare: ['D', ' '] cu factorii [7, 1]\n",
      "Pentru caracterul de pe indexul 5 luam in considerare: ['E', 'D'] cu factorii [7, 1]\n",
      "Pentru caracterul de pe indexul 6 luam in considerare: ['1', 'E'] cu factorii [7, 1]\n",
      "Pentru caracterul de pe indexul 7 luam in considerare: ['4', '1'] cu factorii [7, 1]\n",
      "Pentru caracterul de pe indexul 8 luam in considerare: ['3', '4'] cu factorii [7, 1]\n",
      "Pentru caracterul de pe indexul 9 luam in considerare: ['3'] cu factorii [8]\n",
      "\n",
      "Pentru indexul 0 am ales M\n",
      "Pentru indexul 1 am ales H\n",
      "Pentru indexul 2 am ales I\n",
      "Pentru indexul 3 am ales Z\n",
      "Pentru indexul 4 am ales D\n",
      "Pentru indexul 5 am ales E\n",
      "Pentru indexul 6 am ales 1\n",
      "Pentru indexul 7 am ales 4\n",
      "Pentru indexul 8 am ales 3\n",
      "Pentru indexul 9 am ales 3\n",
      "\n",
      "Placuta finala: MHIZDE1433\n",
      "Placute neprocesate:\n",
      "['SA0335CC', 'SA0335C0', 'FSA0335cq', 'SAv335c0', 'S133c0', 'SA0335C0']\n",
      "\n",
      "Numar de placute: 6\n",
      "\n",
      "Placute:\n",
      "['SA0335CC', 'SA0335C0', 'FSA0335cq', 'SAv335c0', 'S133c0', 'SA0335C0']\n",
      "\n",
      "Placute sortate:\n",
      "['FSA0335cq', 'S133c0', 'SA0335C0', 'SA0335C0', 'SA0335CC', 'SAv335c0']\n",
      "\n",
      "Placute fara dubluri:\n",
      "['S133c0', 'SA0335CC', 'FSA0335cq', 'SAv335c0', 'SA0335C0']\n",
      "\n",
      "Numar de aparitii fiecare placuta unica:\n",
      "[1, 1, 1, 1, 2]\n",
      "\n",
      "Cel mai mare numar de aparitii: 2\n",
      "Se afla la indexul: 4\n",
      "\n",
      "S133c0 stearsa din detectii!\n",
      "FSA0335cq stearsa din detectii!\n",
      "\n",
      "Placute luate in considerare:\n",
      "['SA0335CC', 'SAv335c0', 'SA0335C0']\n",
      "Cu numerele de apartii:\n",
      "[1, 1, 2]\n",
      "\n",
      "Litera de pe indexul 0 din placuta cu numarul 0 este S si are un factor de 1\n",
      "Litera de pe indexul 0 din placuta cu numarul 1 este S si are un factor de 1\n",
      "Litera de pe indexul 0 din placuta cu numarul 2 este S si are un factor de 2\n",
      "\n",
      "Litera de pe indexul 1 din placuta cu numarul 0 este A si are un factor de 1\n",
      "Litera de pe indexul 1 din placuta cu numarul 1 este A si are un factor de 1\n",
      "Litera de pe indexul 1 din placuta cu numarul 2 este A si are un factor de 2\n",
      "\n",
      "Litera de pe indexul 2 din placuta cu numarul 0 este 0 si are un factor de 1\n",
      "Litera de pe indexul 2 din placuta cu numarul 1 este v si are un factor de 1\n",
      "Litera de pe indexul 2 din placuta cu numarul 2 este 0 si are un factor de 2\n",
      "\n",
      "Litera de pe indexul 3 din placuta cu numarul 0 este 3 si are un factor de 1\n",
      "Litera de pe indexul 3 din placuta cu numarul 1 este 3 si are un factor de 1\n",
      "Litera de pe indexul 3 din placuta cu numarul 2 este 3 si are un factor de 2\n",
      "\n",
      "Litera de pe indexul 4 din placuta cu numarul 0 este 3 si are un factor de 1\n",
      "Litera de pe indexul 4 din placuta cu numarul 1 este 3 si are un factor de 1\n",
      "Litera de pe indexul 4 din placuta cu numarul 2 este 3 si are un factor de 2\n",
      "\n",
      "Litera de pe indexul 5 din placuta cu numarul 0 este 5 si are un factor de 1\n",
      "Litera de pe indexul 5 din placuta cu numarul 1 este 5 si are un factor de 1\n",
      "Litera de pe indexul 5 din placuta cu numarul 2 este 5 si are un factor de 2\n",
      "\n",
      "Litera de pe indexul 6 din placuta cu numarul 0 este C si are un factor de 1\n",
      "Litera de pe indexul 6 din placuta cu numarul 1 este c si are un factor de 1\n",
      "Litera de pe indexul 6 din placuta cu numarul 2 este C si are un factor de 2\n",
      "\n",
      "Litera de pe indexul 7 din placuta cu numarul 0 este C si are un factor de 1\n",
      "Litera de pe indexul 7 din placuta cu numarul 1 este 0 si are un factor de 1\n",
      "Litera de pe indexul 7 din placuta cu numarul 2 este 0 si are un factor de 2\n",
      "\n",
      "Pentru caracterul de pe indexul 0 luam in considerare: ['S'] cu factorii [3]\n",
      "Pentru caracterul de pe indexul 1 luam in considerare: ['A'] cu factorii [3]\n",
      "Pentru caracterul de pe indexul 2 luam in considerare: ['0', 'v'] cu factorii [2, 1]\n",
      "Pentru caracterul de pe indexul 3 luam in considerare: ['3'] cu factorii [3]\n",
      "Pentru caracterul de pe indexul 4 luam in considerare: ['3'] cu factorii [3]\n",
      "Pentru caracterul de pe indexul 5 luam in considerare: ['5'] cu factorii [3]\n",
      "Pentru caracterul de pe indexul 6 luam in considerare: ['C', 'c'] cu factorii [2, 1]\n",
      "Pentru caracterul de pe indexul 7 luam in considerare: ['C', '0'] cu factorii [1, 2]\n",
      "\n",
      "Pentru indexul 0 am ales S\n",
      "Pentru indexul 1 am ales A\n",
      "Pentru indexul 2 am ales 0\n",
      "Pentru indexul 3 am ales 3\n",
      "Pentru indexul 4 am ales 3\n",
      "Pentru indexul 5 am ales 5\n",
      "Pentru indexul 6 am ales C\n",
      "Pentru indexul 7 am ales 0\n",
      "\n",
      "Placuta finala: SA0335C0\n",
      "Placute neprocesate:\n",
      "['0vooqu', 'Teooodz', 'Ie000dz', 'IVeoooo7', 'Tao000z', 'TVvoooo7', '1Vv00007', 'Vvoooo7', 'Vooodz', 'TVv00007', 'T9ooodz', 'Tvoooo7', 'T900dz']\n",
      "\n",
      "Numar de placute: 13\n",
      "\n",
      "Placute:\n",
      "['0vooqu', 'Teooodz', 'Ie000dz', 'IVeoooo7', 'Tao000z', 'TVvoooo7', '1Vv00007', 'Vvoooo7', 'Vooodz', 'TVv00007', 'T9ooodz', 'Tvoooo7', 'T900dz']\n",
      "\n",
      "Placute sortate:\n",
      "['0vooqu', '1Vv00007', 'IVeoooo7', 'Ie000dz', 'T900dz', 'T9ooodz', 'TVv00007', 'TVvoooo7', 'Tao000z', 'Teooodz', 'Tvoooo7', 'Vooodz', 'Vvoooo7']\n",
      "\n",
      "Placute fara dubluri:\n",
      "['Teooodz', 'IVeoooo7', 'TVv00007', 'Tao000z', 'Vooodz', 'TVvoooo7', '0vooqu', 'Ie000dz', 'Vvoooo7', 'T9ooodz', 'Tvoooo7', '1Vv00007', 'T900dz']\n",
      "\n",
      "Numar de aparitii fiecare placuta unica:\n",
      "[1, 1, 1, 1, 1, 1, 1, 1, 1, 1, 1, 1, 1]\n",
      "\n",
      "Cel mai mare numar de aparitii: 1\n",
      "Se afla la indexul: 0\n",
      "\n",
      "\n",
      "Placute luate in considerare:\n",
      "['Teooodz', 'Tao000z', 'Ie000dz', 'Vvoooo7', 'T9ooodz', 'Tvoooo7']\n",
      "Cu numerele de apartii:\n",
      "[1, 1, 1, 1, 1, 1]\n",
      "\n",
      "Litera de pe indexul 0 din placuta cu numarul 0 este T si are un factor de 1\n",
      "Litera de pe indexul 0 din placuta cu numarul 1 este T si are un factor de 1\n",
      "Litera de pe indexul 0 din placuta cu numarul 2 este I si are un factor de 1\n",
      "Litera de pe indexul 0 din placuta cu numarul 3 este V si are un factor de 1\n",
      "Litera de pe indexul 0 din placuta cu numarul 4 este T si are un factor de 1\n",
      "Litera de pe indexul 0 din placuta cu numarul 5 este T si are un factor de 1\n",
      "\n",
      "Litera de pe indexul 1 din placuta cu numarul 0 este e si are un factor de 1\n",
      "Litera de pe indexul 1 din placuta cu numarul 1 este a si are un factor de 1\n",
      "Litera de pe indexul 1 din placuta cu numarul 2 este e si are un factor de 1\n",
      "Litera de pe indexul 1 din placuta cu numarul 3 este v si are un factor de 1\n",
      "Litera de pe indexul 1 din placuta cu numarul 4 este 9 si are un factor de 1\n",
      "Litera de pe indexul 1 din placuta cu numarul 5 este v si are un factor de 1\n",
      "\n",
      "Litera de pe indexul 2 din placuta cu numarul 0 este o si are un factor de 1\n",
      "Litera de pe indexul 2 din placuta cu numarul 1 este o si are un factor de 1\n",
      "Litera de pe indexul 2 din placuta cu numarul 2 este 0 si are un factor de 1\n",
      "Litera de pe indexul 2 din placuta cu numarul 3 este o si are un factor de 1\n",
      "Litera de pe indexul 2 din placuta cu numarul 4 este o si are un factor de 1\n",
      "Litera de pe indexul 2 din placuta cu numarul 5 este o si are un factor de 1\n",
      "\n",
      "Litera de pe indexul 3 din placuta cu numarul 0 este o si are un factor de 1\n",
      "Litera de pe indexul 3 din placuta cu numarul 1 este 0 si are un factor de 1\n",
      "Litera de pe indexul 3 din placuta cu numarul 2 este 0 si are un factor de 1\n",
      "Litera de pe indexul 3 din placuta cu numarul 3 este o si are un factor de 1\n",
      "Litera de pe indexul 3 din placuta cu numarul 4 este o si are un factor de 1\n",
      "Litera de pe indexul 3 din placuta cu numarul 5 este o si are un factor de 1\n",
      "\n",
      "Litera de pe indexul 4 din placuta cu numarul 0 este o si are un factor de 1\n",
      "Litera de pe indexul 4 din placuta cu numarul 1 este 0 si are un factor de 1\n",
      "Litera de pe indexul 4 din placuta cu numarul 2 este 0 si are un factor de 1\n",
      "Litera de pe indexul 4 din placuta cu numarul 3 este o si are un factor de 1\n",
      "Litera de pe indexul 4 din placuta cu numarul 4 este o si are un factor de 1\n",
      "Litera de pe indexul 4 din placuta cu numarul 5 este o si are un factor de 1\n",
      "\n",
      "Litera de pe indexul 5 din placuta cu numarul 0 este d si are un factor de 1\n",
      "Litera de pe indexul 5 din placuta cu numarul 1 este 0 si are un factor de 1\n",
      "Litera de pe indexul 5 din placuta cu numarul 2 este d si are un factor de 1\n",
      "Litera de pe indexul 5 din placuta cu numarul 3 este o si are un factor de 1\n",
      "Litera de pe indexul 5 din placuta cu numarul 4 este d si are un factor de 1\n",
      "Litera de pe indexul 5 din placuta cu numarul 5 este o si are un factor de 1\n",
      "\n",
      "Litera de pe indexul 6 din placuta cu numarul 0 este z si are un factor de 1\n",
      "Litera de pe indexul 6 din placuta cu numarul 1 este z si are un factor de 1\n",
      "Litera de pe indexul 6 din placuta cu numarul 2 este z si are un factor de 1\n",
      "Litera de pe indexul 6 din placuta cu numarul 3 este 7 si are un factor de 1\n",
      "Litera de pe indexul 6 din placuta cu numarul 4 este z si are un factor de 1\n",
      "Litera de pe indexul 6 din placuta cu numarul 5 este 7 si are un factor de 1\n",
      "\n",
      "Pentru caracterul de pe indexul 0 luam in considerare: ['T', 'I', 'V'] cu factorii [4, 1, 1]\n",
      "Pentru caracterul de pe indexul 1 luam in considerare: ['e', 'a', 'v', '9'] cu factorii [2, 1, 2, 1]\n",
      "Pentru caracterul de pe indexul 2 luam in considerare: ['o', '0'] cu factorii [5, 1]\n",
      "Pentru caracterul de pe indexul 3 luam in considerare: ['o', '0'] cu factorii [4, 2]\n",
      "Pentru caracterul de pe indexul 4 luam in considerare: ['o', '0'] cu factorii [4, 2]\n",
      "Pentru caracterul de pe indexul 5 luam in considerare: ['d', '0', 'o'] cu factorii [3, 1, 2]\n",
      "Pentru caracterul de pe indexul 6 luam in considerare: ['z', '7'] cu factorii [4, 2]\n",
      "\n",
      "Pentru indexul 0 am ales T\n",
      "Pentru indexul 1 am ales e\n",
      "Pentru indexul 2 am ales o\n",
      "Pentru indexul 3 am ales o\n",
      "Pentru indexul 4 am ales o\n",
      "Pentru indexul 5 am ales d\n",
      "Pentru indexul 6 am ales z\n",
      "\n",
      "Placuta finala: Teooodz\n",
      "Placute neprocesate:\n",
      "['ORU', 'BO1RU', 'BOIRU', 'BOE', 'TO1RU', 'B OIERU', 'TTERU', 'B OIERU']\n",
      "\n",
      "Numar de placute: 8\n",
      "\n",
      "Placute:\n",
      "['ORU', 'BO1RU', 'BOIRU', 'BOE', 'TO1RU', 'B OIERU', 'TTERU', 'B OIERU']\n",
      "\n",
      "Placute sortate:\n",
      "['B OIERU', 'B OIERU', 'BO1RU', 'BOE', 'BOIRU', 'ORU', 'TO1RU', 'TTERU']\n",
      "\n",
      "Placute fara dubluri:\n",
      "['BOE', 'TTERU', 'ORU', 'BO1RU', 'BOIRU', 'TO1RU', 'B OIERU']\n",
      "\n",
      "Numar de aparitii fiecare placuta unica:\n",
      "[1, 1, 1, 1, 1, 1, 2]\n",
      "\n",
      "Cel mai mare numar de aparitii: 2\n",
      "Se afla la indexul: 6\n",
      "\n",
      "BOE stearsa din detectii!\n",
      "TTERU stearsa din detectii!\n",
      "ORU stearsa din detectii!\n",
      "BO1RU stearsa din detectii!\n",
      "BOIRU stearsa din detectii!\n",
      "TO1RU stearsa din detectii!\n",
      "\n",
      "Placute luate in considerare:\n",
      "['B OIERU']\n",
      "Cu numerele de apartii:\n",
      "[2]\n",
      "\n",
      "Litera de pe indexul 0 din placuta cu numarul 0 este B si are un factor de 2\n",
      "\n",
      "Litera de pe indexul 1 din placuta cu numarul 0 este   si are un factor de 2\n",
      "\n",
      "Litera de pe indexul 2 din placuta cu numarul 0 este O si are un factor de 2\n",
      "\n",
      "Litera de pe indexul 3 din placuta cu numarul 0 este I si are un factor de 2\n",
      "\n",
      "Litera de pe indexul 4 din placuta cu numarul 0 este E si are un factor de 2\n",
      "\n",
      "Litera de pe indexul 5 din placuta cu numarul 0 este R si are un factor de 2\n",
      "\n",
      "Litera de pe indexul 6 din placuta cu numarul 0 este U si are un factor de 2\n",
      "\n",
      "Pentru caracterul de pe indexul 0 luam in considerare: ['B'] cu factorii [1]\n",
      "Pentru caracterul de pe indexul 1 luam in considerare: [' '] cu factorii [1]\n",
      "Pentru caracterul de pe indexul 2 luam in considerare: ['O'] cu factorii [1]\n",
      "Pentru caracterul de pe indexul 3 luam in considerare: ['I'] cu factorii [1]\n",
      "Pentru caracterul de pe indexul 4 luam in considerare: ['E'] cu factorii [1]\n",
      "Pentru caracterul de pe indexul 5 luam in considerare: ['R'] cu factorii [1]\n",
      "Pentru caracterul de pe indexul 6 luam in considerare: ['U'] cu factorii [1]\n",
      "\n",
      "Pentru indexul 0 am ales B\n",
      "Pentru indexul 1 am ales  \n",
      "Pentru indexul 2 am ales O\n",
      "Pentru indexul 3 am ales I\n",
      "Pentru indexul 4 am ales E\n",
      "Pentru indexul 5 am ales R\n",
      "Pentru indexul 6 am ales U\n",
      "\n",
      "Placuta finala: B OIERU\n",
      "Placute neprocesate:\n",
      "['8 007 BMW', '8 007 BMW', '8 007 BMW', 'B 007 BMW']\n",
      "\n",
      "Numar de placute: 4\n",
      "\n",
      "Placute:\n",
      "['8 007 BMW', '8 007 BMW', '8 007 BMW', 'B 007 BMW']\n",
      "\n",
      "Placute sortate:\n",
      "['8 007 BMW', '8 007 BMW', '8 007 BMW', 'B 007 BMW']\n",
      "\n",
      "Placute fara dubluri:\n",
      "['8 007 BMW', 'B 007 BMW']\n",
      "\n",
      "Numar de aparitii fiecare placuta unica:\n",
      "[3, 1]\n",
      "\n",
      "Cel mai mare numar de aparitii: 3\n",
      "Se afla la indexul: 0\n",
      "\n",
      "\n",
      "Placute luate in considerare:\n",
      "['8 007 BMW', 'B 007 BMW']\n",
      "Cu numerele de apartii:\n",
      "[3, 1]\n",
      "\n",
      "Litera de pe indexul 0 din placuta cu numarul 0 este 8 si are un factor de 3\n",
      "Litera de pe indexul 0 din placuta cu numarul 1 este B si are un factor de 1\n",
      "\n",
      "Litera de pe indexul 1 din placuta cu numarul 0 este   si are un factor de 3\n",
      "Litera de pe indexul 1 din placuta cu numarul 1 este   si are un factor de 1\n",
      "\n",
      "Litera de pe indexul 2 din placuta cu numarul 0 este 0 si are un factor de 3\n",
      "Litera de pe indexul 2 din placuta cu numarul 1 este 0 si are un factor de 1\n",
      "\n",
      "Litera de pe indexul 3 din placuta cu numarul 0 este 0 si are un factor de 3\n",
      "Litera de pe indexul 3 din placuta cu numarul 1 este 0 si are un factor de 1\n",
      "\n",
      "Litera de pe indexul 4 din placuta cu numarul 0 este 7 si are un factor de 3\n",
      "Litera de pe indexul 4 din placuta cu numarul 1 este 7 si are un factor de 1\n",
      "\n",
      "Litera de pe indexul 5 din placuta cu numarul 0 este   si are un factor de 3\n",
      "Litera de pe indexul 5 din placuta cu numarul 1 este   si are un factor de 1\n",
      "\n",
      "Litera de pe indexul 6 din placuta cu numarul 0 este B si are un factor de 3\n",
      "Litera de pe indexul 6 din placuta cu numarul 1 este B si are un factor de 1\n",
      "\n",
      "Litera de pe indexul 7 din placuta cu numarul 0 este M si are un factor de 3\n",
      "Litera de pe indexul 7 din placuta cu numarul 1 este M si are un factor de 1\n",
      "\n",
      "Litera de pe indexul 8 din placuta cu numarul 0 este W si are un factor de 3\n",
      "Litera de pe indexul 8 din placuta cu numarul 1 este W si are un factor de 1\n",
      "\n",
      "Pentru caracterul de pe indexul 0 luam in considerare: ['8', 'B'] cu factorii [3, 1]\n",
      "Pentru caracterul de pe indexul 1 luam in considerare: [' '] cu factorii [4]\n",
      "Pentru caracterul de pe indexul 2 luam in considerare: ['0'] cu factorii [4]\n",
      "Pentru caracterul de pe indexul 3 luam in considerare: ['0'] cu factorii [4]\n",
      "Pentru caracterul de pe indexul 4 luam in considerare: ['7'] cu factorii [4]\n",
      "Pentru caracterul de pe indexul 5 luam in considerare: [' '] cu factorii [4]\n",
      "Pentru caracterul de pe indexul 6 luam in considerare: ['B'] cu factorii [4]\n",
      "Pentru caracterul de pe indexul 7 luam in considerare: ['M'] cu factorii [4]\n",
      "Pentru caracterul de pe indexul 8 luam in considerare: ['W'] cu factorii [4]\n",
      "\n",
      "Pentru indexul 0 am ales 8\n",
      "Pentru indexul 1 am ales  \n",
      "Pentru indexul 2 am ales 0\n",
      "Pentru indexul 3 am ales 0\n",
      "Pentru indexul 4 am ales 7\n",
      "Pentru indexul 5 am ales  \n",
      "Pentru indexul 6 am ales B\n",
      "Pentru indexul 7 am ales M\n",
      "Pentru indexul 8 am ales W\n",
      "\n",
      "Placuta finala: 8 007 BMW\n",
      "BLO654BP\n",
      "MHIZDE1433\n",
      "SA0335C0\n",
      "Teooodz\n",
      "B OIERU\n",
      "8 007 BMW\n"
     ]
    }
   ],
   "source": [
    "platesList1 = ['BLO65LBF', 'BLe654BP', 'unreadable', 'BLO654BP', 'BLO654BP', 'BLO6SLBP', 'BLO654BP', 'BLe654BP', 'BLe654BP', 'BLO654BP', 'BL265-ER', 'BLO654BP', 'BLO654BP', 'BLe654BP', 'BLP654BP', 'BLO654BP', 'BLP64BP']\n",
    "platesList2 = ['MHIZDE1433', 'MHIZDE1433', 'MHIZDE1433', 'MHIZDE1433', 'MAIZ DE1433', 'MHI2 DE143', 'MHI2DE1433', 'MHIZ DE4433', 'MH12 DE 1432', 'MHIZ DE1433', 'HH12 DE1433', 'MHIZDE1433', 'HHIZDE1433']\n",
    "platesList3 = ['SA0335CC', 'SA0335C0', 'FSA0335cq', 'SAv335c0', 'S133c0', 'SA0335C0']\n",
    "platesList4 = ['0vooqu', 'Teooodz', 'Ie000dz', 'IVeoooo7', 'Tao000z', 'TVvoooo7', '1Vv00007', 'Vvoooo7', 'Vooodz', 'TVv00007', 'T9ooodz', 'Tvoooo7', 'T900dz']\n",
    "platesList5 = ['ORU', 'BO1RU', 'BOIRU', 'BOE', 'TO1RU', 'B OIERU', 'TTERU', 'B OIERU']\n",
    "platesList6 = ['8 007 BMW', '8 007 BMW', '8 007 BMW', 'B 007 BMW']\n",
    "\n",
    "\n",
    "def processPlate(stringsUnreadable):\n",
    "    \n",
    "    print(f'Placute neprocesate:\\n{stringsUnreadable}\\n')\n",
    "    \n",
    "    strings = []\n",
    "    for elem in stringsUnreadable:\n",
    "        if elem != 'unreadable':\n",
    "            strings.append(elem)\n",
    "    \n",
    "    print(f'Numar de placute: {len(strings)}\\n')\n",
    "    print(f'Placute:\\n{strings}\\n')\n",
    "\n",
    "    strings_sorted = strings\n",
    "    strings_sorted.sort()\n",
    "    print(f'Placute sortate:\\n{strings_sorted}\\n')\n",
    "\n",
    "    strings_unique = set(strings)\n",
    "    strings_unique = list(strings_unique)\n",
    "    print(f'Placute fara dubluri:\\n{strings_unique}\\n')\n",
    "\n",
    "    counts = []\n",
    "    for elem in strings_unique:\n",
    "        counts.append(strings.count(elem))\n",
    "    print(f'Numar de aparitii fiecare placuta unica:\\n{counts}\\n')\n",
    "\n",
    "    maximum = max(counts)\n",
    "    maximum_index = counts.index(maximum)\n",
    "    print(f'Cel mai mare numar de aparitii: {maximum}')\n",
    "    print(f'Se afla la indexul: {maximum_index}\\n')\n",
    "\n",
    "    stringsValues = []\n",
    "    stringsCounts = []\n",
    "    if(counts.count(maximum) == 1):\n",
    "        for index, elem in enumerate(strings_unique):\n",
    "            if (len(elem) == len(strings_unique[maximum_index])):\n",
    "                stringsValues.append(elem)\n",
    "                stringsCounts.append(counts[index])\n",
    "            else:\n",
    "                print(f'{elem} stearsa din detectii!')\n",
    "    elif(counts.count(maximum) == len(strings_unique)):\n",
    "        for index, elem in enumerate(strings_unique):\n",
    "            if (len(elem) == len(strings_unique[0])):\n",
    "                stringsValues.append(elem)\n",
    "                stringsCounts.append(counts[index])\n",
    "    else:\n",
    "        print('bla')\n",
    "\n",
    "    print(f'\\nPlacute luate in considerare:\\n{stringsValues}')\n",
    "    print(f'Cu numerele de apartii:\\n{stringsCounts}\\n')\n",
    "\n",
    "    literePosibilePlacuta = []\n",
    "    factoriPlacuta = []\n",
    "    for i in range(0, len(strings_unique[maximum_index])):\n",
    "        literePosibile = []\n",
    "        factori = []\n",
    "        for index, elem in enumerate(stringsValues):\n",
    "            print(f'Litera de pe indexul {i} din placuta cu numarul {index} este {elem[i]} si are un factor de {stringsCounts[index]}')\n",
    "            literaPosibila = elem[i]\n",
    "            factor = counts[index]\n",
    "            if literaPosibila not in literePosibile:\n",
    "                literePosibile.append(literaPosibila)\n",
    "                factori.append(factor)\n",
    "            else:\n",
    "                indexLiteraExistenta = literePosibile.index(literaPosibila)\n",
    "                factori[indexLiteraExistenta] += factor\n",
    "        print()\n",
    "        literePosibilePlacuta.append(literePosibile)\n",
    "        factoriPlacuta.append(factori)\n",
    "\n",
    "    for i in range(0, len(strings_unique[maximum_index])):\n",
    "        print(f'Pentru caracterul de pe indexul {i} luam in considerare: {literePosibilePlacuta[i]} cu factorii {factoriPlacuta[i]}')\n",
    "    print()\n",
    "\n",
    "    stringFinal = ''\n",
    "    for index, elem in enumerate(literePosibilePlacuta):\n",
    "        if(len(elem) == 1):\n",
    "            print(f'Pentru indexul {index} am ales {elem[0]}')\n",
    "            stringFinal = stringFinal + elem[0]\n",
    "        else:\n",
    "            maximum_local = max(factoriPlacuta[index])\n",
    "            maximum_local_index = factoriPlacuta[index].index(maximum_local)\n",
    "            print(f'Pentru indexul {index} am ales {elem[maximum_local_index]}')\n",
    "            stringFinal = stringFinal + elem[maximum_local_index]\n",
    "\n",
    "    print(f'\\nPlacuta finala: {stringFinal}')\n",
    "    return(stringFinal)\n",
    "\n",
    "result1 = processPlate(platesList1)\n",
    "result2 = processPlate(platesList2)\n",
    "result3 = processPlate(platesList3)\n",
    "result4 = processPlate(platesList4)\n",
    "result5 = processPlate(platesList5)\n",
    "result6 = processPlate(platesList6)\n",
    "\n",
    "print(\"Placute finale:\")\n",
    "print(result1)\n",
    "print(result2)\n",
    "print(result3)\n",
    "print(result4)\n",
    "print(result5)\n",
    "print(result6)\n",
    "\n",
    "# De pus si data, ora, fisierul plus sa le scoata din acelasi minut"
   ]
  },
  {
   "cell_type": "code",
   "execution_count": null,
   "metadata": {},
   "outputs": [],
   "source": []
  }
 ],
 "metadata": {
  "accelerator": "GPU",
  "colab": {
   "name": "3. Training and Detection.ipynb",
   "provenance": []
  },
  "kernelspec": {
   "display_name": "licenta",
   "language": "python",
   "name": "licenta"
  },
  "language_info": {
   "codemirror_mode": {
    "name": "ipython",
    "version": 3
   },
   "file_extension": ".py",
   "mimetype": "text/x-python",
   "name": "python",
   "nbconvert_exporter": "python",
   "pygments_lexer": "ipython3",
   "version": "3.10.4"
  }
 },
 "nbformat": 4,
 "nbformat_minor": 1
}
